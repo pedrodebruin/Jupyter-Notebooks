{
 "cells": [
  {
   "cell_type": "markdown",
   "metadata": {},
   "source": [
    "# Creating a Simple Version of the Pandas Library"
   ]
  },
  {
   "cell_type": "markdown",
   "metadata": {},
   "source": [
    "<br>\n",
    "This project aims to show the main paradigms of the pandas library by having the user build a pandas-like prototype called **BabyPandas**."
   ]
  },
  {
   "cell_type": "code",
   "execution_count": null,
   "metadata": {
    "collapsed": true
   },
   "outputs": [],
   "source": [
    "import csv\n",
    "import statistics"
   ]
  },
  {
   "cell_type": "code",
   "execution_count": null,
   "metadata": {
    "collapsed": true
   },
   "outputs": [],
   "source": [
    "class BabyPandas():\n",
    "    \n",
    "    def __init__(self, filename):\n",
    "        self.filename = filename\n",
    "        \n",
    "    def read_data(self):\n",
    "        self.data = open(self.filename, \"r\")\n",
    "        self.columns = len(list(csv.reader(self.data)[0]))\n",
    "    \n",
    "    def head(self):\n",
    "        return self.data[:5]\n",
    "    \n",
    "    def info(self):\n",
    "        return [ type(col) for col in self.data[1] ]\n",
    "    \n",
    "    def shape(self):\n",
    "        return ( len(self.data), len(self.data[0]) )\n",
    "        \n",
    "    def new_column(self, col_title):\n",
    "        self.data[0].append(col_title)\n",
    "        for i in range(len(self.data)):\n",
    "            self.data[i].append(0)\n",
    "        \n",
    "        return self.data\n",
    "        \n",
    "    def apply(self, col_title, col_values):\n",
    "        col_idx = self.data[0].index(col_title)\n",
    "        for i, value in enumerate(col_values):\n",
    "            self.data[i][col_idx] = value\n",
    "        \n",
    "        return self.data\n",
    "        \n",
    "    def subset(self, colname, rowvalue=None):\n",
    "        col_idx = self.data[0].index(colname)\n",
    "        sub_data = self.data[0]\n",
    "        for r, row in enumerate(self.data):\n",
    "            if rowvalue == None:\n",
    "                subdata.append(row[col_idx])\n",
    "            else r[col_idx] == rowvalue\n",
    "                subdata.append[row[col_idx]]\n",
    "        \n",
    "        return subdata\n",
    "    \n",
    "    def summary_stats(self):\n",
    "        for c in self.data[0]:\n",
    "            print(\"Column {} mean: {}\".format(statistics.mean(self.subset(c))))\n",
    "            print(\"Column {} median: {}\".format(statistics.median(self.subset(c))))\n",
    "            print(\"Column {} mode: {}\".format(statistics.mode(self.subset(c))))\n",
    "            print(\"Column {} stdev: {}\".format(statistics.stdev(self.subset(c))))\n",
    "    \n",
    "    def maximum(self, colname):\n",
    "        return max(self.data.subset(colname))\n",
    "    \n",
    "    def minimum(self, colname):\n",
    "        return min(self.data.subset(colname))\n",
    "        "
   ]
  },
  {
   "cell_type": "markdown",
   "metadata": {},
   "source": [
    "### Using BabyPandas, answer the following questions:\n",
    "\n",
    "- Which song was the top song of 2017?\n"
   ]
  },
  {
   "cell_type": "code",
   "execution_count": null,
   "metadata": {
    "collapsed": true
   },
   "outputs": [],
   "source": [
    "top_song_2017 = "
   ]
  },
  {
   "cell_type": "markdown",
   "metadata": {},
   "source": [
    "- Who was the most dominant artist of 2017?\n"
   ]
  },
  {
   "cell_type": "code",
   "execution_count": null,
   "metadata": {
    "collapsed": true
   },
   "outputs": [],
   "source": []
  },
  {
   "cell_type": "markdown",
   "metadata": {},
   "source": [
    "- Who was the dominant artist for each month of 2017?\n"
   ]
  },
  {
   "cell_type": "code",
   "execution_count": null,
   "metadata": {
    "collapsed": true
   },
   "outputs": [],
   "source": []
  },
  {
   "cell_type": "markdown",
   "metadata": {},
   "source": [
    "- In addition, use any additional methods you've created to answer your questions."
   ]
  },
  {
   "cell_type": "code",
   "execution_count": null,
   "metadata": {
    "collapsed": true
   },
   "outputs": [],
   "source": []
  }
 ],
 "metadata": {
  "kernelspec": {
   "display_name": "Python 3",
   "language": "python",
   "name": "python3"
  },
  "language_info": {
   "codemirror_mode": {
    "name": "ipython",
    "version": 3
   },
   "file_extension": ".py",
   "mimetype": "text/x-python",
   "name": "python",
   "nbconvert_exporter": "python",
   "pygments_lexer": "ipython3",
   "version": "3.4.3"
  }
 },
 "nbformat": 4,
 "nbformat_minor": 2
}
