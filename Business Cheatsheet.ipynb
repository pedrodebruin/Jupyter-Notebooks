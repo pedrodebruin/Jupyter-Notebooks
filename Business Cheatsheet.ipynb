{
 "cells": [
  {
   "cell_type": "markdown",
   "metadata": {},
   "source": [
    "# Insight Interview Prep Guide\n",
    "by Pedro de Bruin"
   ]
  },
  {
   "cell_type": "markdown",
   "metadata": {},
   "source": [
    "## Business terms"
   ]
  },
  {
   "cell_type": "markdown",
   "metadata": {},
   "source": [
    "### 1. Churn\n",
    "[Churn rate](https://en.wikipedia.org/wiki/Churn_rate) (sometimes called attrition rate), in its broadest sense, is a measure of the number of individuals or items moving out of a collective group over a specific period. It is one of two primary factors that determine the steady-state level of customers a business will support. \n",
    "\n",
    "Formula:\n",
    "\n",
    "$ \\frac{\\text{Clients at the start of the day} - \\text{clients at the end of the day}}{\\text{clients at the start of the day}} $\n",
    "\n",
    "Example:\n",
    "\n",
    "Lets imagine that:- At the beginning of the day on Monday we had 100 active subscriptions.- We lost 5 subscriptions on Monday.- Gained 10 and lost 5 subscriptions on Tuesday.This leaves us with 100 customers at the end of Tuesday.\n",
    "\n",
    "If we wanted to see the subscription quantity churn rate for the period of Monday - Tuesday, we would do this calculation:\n",
    "\n",
    "Monday: (100-95) /100 x 100 = 5%\n",
    "\n",
    "Tuesday: (95-100) /95 x 100 = -5.26% subscription quantity churn rate\n",
    "\n",
    "SUM(Monday churn rate + Tuesday churn rate) = -0.26% Subscription Quantity Churn Rate.\n",
    "\n",
    "This left us with a negative subscription quantity churn rate, meaning we gain new subscriptions at a rate faster than we lose them.\n",
    "\n",
    "\n"
   ]
  },
  {
   "cell_type": "markdown",
   "metadata": {},
   "source": [
    "### 2. Engagement"
   ]
  },
  {
   "cell_type": "markdown",
   "metadata": {},
   "source": [
    "As outlined [here](https://blog.popcornmetrics.com/5-user-engagement-metrics-for-growth/), engagement can be defined as **\"when your customer is realising value from your product/service/website/app\".**\n",
    "\n",
    "User Engagement impacts profoundly the growth of your business, on multiple levels. If users are getting value then they are going to stay around for longer. And if you can retain each user for longer, you will have more opportunity to generate revenue from each user (meaning a greater Lifetime Value, so you can afford a higher cost of Customer Acquisition) and more opportunity to have each user refer other new users - all of which leads to growth.\n",
    "\n",
    "**Put simply, User Engagement leads to Retention, which leads to Revenue and Referrals, both of which lead to Growth.**"
   ]
  },
  {
   "cell_type": "markdown",
   "metadata": {},
   "source": [
    "Common metrics are\n",
    "1. **DAU, WAU, MAU**: stand for Daily, Weekly, and Monthly Active Users, that is the unique amount of users who are \"active\" within a given amount of time. DAU and MAU metrics have been used for years by websites and reflect the most basic way of measuring user engagement. \n",
    "<br><br>\n",
    "2. **Stickiness, The DAU/MAU Ratio**: User Stickiness is the ratio of DAUs to MAUs. Stickiness is generally calculated as the ratio of Daily Active Users to Monthly Active Users. A DAU/MAU ratio of 50% would mean that the average user of your app is using it 15 out of 30 days that month.\n",
    "<br><br>\n",
    "3. **D1, D7, D30 User Retention**: D1, D7 and D30 retentions are calculated as the percentage of users who are active at any time after 1 day, 7 days and 30 days of signing up or installing your app. This is often shown in tabular form in tools like Woopra, Mixpanel and KISSmetrics cohorts analysis, but the most useful way to model the data though is as a Retention Curve. Take a look at the sample Retention Curve shown below. This curve shows the percent of users that remain active after a period of time. The retention curve has two key features:\n",
    "    - it tends to drop off really fast at the start (more later on this)\n",
    "    - the curve then (hopefully) tends to flatten out over time. If instead of flattening it hits hit zero, its a strong signal you urgently need to improve user engagement.\n",
    "    This is an incredibly useful way to measure your user engagement, and the aim over time is to move the curve upwards by working to improve your user engagement, both at the start when new users signup, as well as over time.\n",
    "<br><br>\n",
    "4. **Focus on W1 User Retention**: Most new users are lost at the beginning, a short time after signup. For website and web-apps, typically 60-80% of new users are lost within the first week of signup. In mobile it can be 70-80% users lost after the first day. Brian Balfour (Hubspot) says that 7 day, or \"Week 1 Retention (W1)\" \"has one of the biggest impacts on your retention over time\" because improvements that you make in week 1 retention carry through the entire retention curve. Basically if you can get more people to engage early with your product, that will have a a ripple effect pulling the entire curve upwards (as shown in the arrow), so you'll keep more customers, and hence grow faster. Nice!\n",
    "<br><br>\n",
    "5. **Tripwire Metrics: Using 'Red Flags' to Engage Users**: Typically users don't ask for help, and tend to drift away if they don't get value quickly. If you can spot those users and reach out, you may be able to engage them. To help spot users who aren't engaged, you can use Tripwire Metrics to identify users who aren't engaging well and use that data to quickly act to engage them during those vital first 7 days. The guys at Groove managed this, and were able to engage 10% of those users. They noticed that users who engaged well (and were therefore significantly more likely to become paying customers) spent an average of 3 minutes and 18 seconds in the first session, and logged in an average of 4.4 times per day, whereas those who were not engaged (and unlikely to convert) only spent an average of 0.35 seconds on their first session and logged in 0.3 times/day. So, they set up an alert to spot these non-engaged users and would then reach out to those users to offer personalised help getting setup which resulted in those users becoming more engaged and 30% of those who responded would then convert to a customer."
   ]
  },
  {
   "cell_type": "markdown",
   "metadata": {},
   "source": [
    "### 3. Search Engine Optimization (SEO)\n",
    "\n",
    "See [here](https://www.simplilearn.com/seo-interview-questions-and-answers-article) for more."
   ]
  },
  {
   "cell_type": "markdown",
   "metadata": {},
   "source": [
    "**Question 1: What makes a website search engine friendly?**\n",
    "\n",
    "A: Several factors make a website search engine friendly, including keywords, quality content, titles, metadata, etc. A website needs these factors to be ranked by a search engine and therefore found by a user. "
   ]
  },
  {
   "cell_type": "markdown",
   "metadata": {},
   "source": [
    "**Question 2: How do you measure SEO success?**\n",
    "\n",
    "A: You might want to answer this question based on the type of company you’re interviewing for, as goals might differ. In addition, there are a variety of ways to measure key performance indicators (KPIs) and, therefore, success. During an SEO interview, possible answers might include increasing traffic to a website or particular landing page, increasing conversions such as newsletter signups or sales, growing the number of inbound links, driving traffic for a particular keyword phrase, or increasing referral traffic. It’s critical that an SEO professional measures result to know if the tactics and strategy need to change to succeed."
   ]
  },
  {
   "cell_type": "markdown",
   "metadata": {},
   "source": [
    "**Question 5: How do you approach keyword research?**\n",
    "\n",
    "A: As with the question above, your answer might vary. You’ll want to explain which keyword tools you use for research, as well as how you go about it. For example, if you use Google Keyword Planner to do your keyword research, then that’s your answer for the tool used. But you must also explain how you go about it. You must demonstrate you do more than simply guess at a keyword and type that into the tool before checking the results. For example, perhaps you use personas to consider potential problems a prospect faces, and you look for keywords around that. You should also explain that you consider longer keyword phrases, search volume, and the competitiveness of a keyword. Demonstrate that you know how to find the sweet spot in keyword research, where the keyword narrower so it’s targeted and has good search volume, but is not highly competitive. "
   ]
  },
  {
   "cell_type": "markdown",
   "metadata": {},
   "source": [
    "**Question 6: What is link building and why does it matter?**\n",
    "\n",
    "A: Google exists to serve the searcher. That means Google is constantly trying to determine which results are most relevant to any given searcher and any given time. In addition to relevance, Google considers credibility too. So the search engine looks to see if other websites have linked to yours. If so, that means your content is worth linking to and is, therefore, more credible when compared to a website not linked to externally. In a nutshell, link building is what SEO professionals do to try and get links to their websites in order to improve search results."
   ]
  },
  {
   "cell_type": "markdown",
   "metadata": {},
   "source": [
    "**Question 7: What are backlinks?**\n",
    "\n",
    "A: A backlink is what we call the links into a website from an external source, as mentioned in link building. "
   ]
  },
  {
   "cell_type": "markdown",
   "metadata": {},
   "source": [
    "**Question 8: What is page speed and why does it matter?**\n",
    "\n",
    "A: Page speed refers to how fast your site loads for a user, something Google takes into account while ranking websites since a faster loading page directly translate to better user experience. If the interviewer asks what you would do to increase page speed, describe how you’ve achieved this in the past with examples such as reducing image sizes, enabling compression, reducing redirects, removing render-blocking JavaScript, leveraging browser caching, improve server response time, using a content distribution network to compress files, optimizing the code etc."
   ]
  },
  {
   "cell_type": "markdown",
   "metadata": {},
   "source": [
    "## Funnel Analysis\n",
    "\n",
    "[Funnel analysis](https://en.wikipedia.org/wiki/Funnel_analysis) involves using a series of events that lead towards a defined goal, like from user engagement in a mobile app to a sale in an eCommerce platform or advertisement to purchase in online advertising. The funnel analyses \"are an effective way to calculate conversion rates on specific user behaviors\". This can be in the form of a sale, registration, or other intended action from an audience. The origin of the term funnel analysis comes from the nature of a funnel where individuals will enter the funnel, yet only a small number of them will perform the intended goals.\n",
    "\n",
    "For more emphasis, it makes sense why a funnel in analytics is called a funnel. An actual funnel, like the ones from a kitchen or garage, gets narrower along its length, allowing less volume to pass through it. An analytics funnel represents a very similar idea, just in regards to users on an eCommerce platform, application or online game.\n",
    "\n",
    "An example of how a company would use funnel analytics is by focusing on drawing actionable insights from funnels. Funnel analysis can be used to determine conversion and user fallout rates in a given funnel. An analysis to determine the steps that lead to a desired goal in order to improve future interactions in the same funnel can be done for further success. To illustrate further, looking at how many users actually make it to the end of the funnel, for example to make a purchase or register, compared with how many do not.\n",
    "\n",
    "By continuously monitoring and analyzing funnels, it is possible to assess if changes to an application or platform are having a positive effect on conversion. For instance, one might find that only 10% of users who come to a platform and enter the registration funnel actually reach the goal of completing registration. Using the funnel analytics process, it is then possible to tweak settings or features within the funnel in order to see what makes that number improve. Or when creating a marketing campaign, there is a chance to analyze how well the campaign is working by monitoring a funnel that brings users from the initial event all the way to purchasing a product.\n",
    "\n",
    "**Funnel analysis helps determine the point in which users are dropping off.** The next step is to understand why they’re dropping off, in order to reduce drop off rates and in turn increase overall conversion. "
   ]
  },
  {
   "cell_type": "markdown",
   "metadata": {},
   "source": [
    "# Metrics"
   ]
  },
  {
   "cell_type": "markdown",
   "metadata": {},
   "source": [
    "### OEC or Overall Evaluation Criterion\n",
    "\n",
    "Use multiple metrics for sanity checking, but for evaluation you may want to use an object function to combine multiple metrics. This is called an OEC or composite metric.\n",
    "\n",
    "Pros: multiple teams can work with the same OEC instead of several teams working on several different (and sometimes competing) metrics.\n",
    "\n",
    "Cons: \n",
    "- getting people from different teams to agree on an OEC can be difficult.\n",
    "- If you optimze on an OEC, it can improve while a few particular metrics deteriorirate significantly, which can lead to radical unforeseen negative impacts.\n",
    "- People often ask why is the OEC moving when it moves and then you're back to looking at individual metrics which defeats the purpose."
   ]
  },
  {
   "cell_type": "markdown",
   "metadata": {},
   "source": [
    "## Difference between CTR and CTP\n",
    "\n",
    "Similar metrics. **Rates are better for usability of a button**. Should we make the button bigger? Move it to a different place? Use rates.\n",
    "\n",
    "CTR or click-through rate is the # clicks / # page views.\n",
    "\n",
    "CTP or click-through probability is the # unique clicks / # unique visitors."
   ]
  },
  {
   "cell_type": "code",
   "execution_count": null,
   "metadata": {},
   "outputs": [],
   "source": []
  }
 ],
 "metadata": {
  "kernelspec": {
   "display_name": "Python 3",
   "language": "python",
   "name": "python3"
  },
  "language_info": {
   "codemirror_mode": {
    "name": "ipython",
    "version": 3
   },
   "file_extension": ".py",
   "mimetype": "text/x-python",
   "name": "python",
   "nbconvert_exporter": "python",
   "pygments_lexer": "ipython3",
   "version": "3.6.6"
  }
 },
 "nbformat": 4,
 "nbformat_minor": 2
}
