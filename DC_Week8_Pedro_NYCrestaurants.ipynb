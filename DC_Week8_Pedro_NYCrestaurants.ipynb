{
 "cells": [
  {
   "cell_type": "markdown",
   "metadata": {},
   "source": [
    "# Data Challenge Week 8"
   ]
  },
  {
   "cell_type": "markdown",
   "metadata": {},
   "source": [
    "## NYC Restaurant Inspections\n",
    "\n",
    "Please limit yourself to 4 hours time!\n",
    "\n",
    "Place your submissions to the Submissions sub-folder with the naming convention: lastname_firstname"
   ]
  },
  {
   "cell_type": "markdown",
   "metadata": {},
   "source": [
    "## Goals\n",
    "\n",
    "You have been provided with a dataset containing inspection ratings for NYC restaurants. The structure of the files are normalized and contain various attributes regarding the restaurants and their inspections.\n",
    "By design, this is an open-ended analysis. Feel free to identify trends, draw insights and recommendations (think: customer and/or inspector perspective). You are welcome to use any number of tools that you have at your disposal to complete this analysis. Because this is open-ended it is feasible that an analysis can take days if not weeks to consider all angles but for the sake of everyone's time we do not expect you spend more than 4 hours working on this. Remember that the purpose of this is to showcase your analytical skills. Please provide documentation of code cleaning and analysis (any code, scratch work, etc) - more info the better. This is great way for us to understand how you are thinking through the project.\n",
    "\n",
    "Be as creative as you'd like but please be prudent with your time."
   ]
  },
  {
   "cell_type": "markdown",
   "metadata": {},
   "source": [
    "### Some assumptions about the project\n",
    "- Potential customers would prefer to not get sick from the food they eat. But completely avoiding lower-grade restaurants might be an oversimplification. There are some tradeoffs to be considered here.\n",
    "- There are a limited number of inspectors and inspections take time. Therefore the number of inspections is also limited.\n",
    "- Your stakeholders are looking to you for context and recommendations."
   ]
  },
  {
   "cell_type": "markdown",
   "metadata": {},
   "source": [
    "### The data\n",
    "\n",
    "The dataset is split into 6 parts:"
   ]
  },
  {
   "cell_type": "code",
   "execution_count": 1,
   "metadata": {},
   "outputs": [],
   "source": [
    "url1 = \"https://drive.google.com/open?id=1t341abdN72itsaFCFDZoKgBnaQPMvHov\"\n",
    "url2 = \"https://drive.google.com/open?id=1iszIPPggFWn2SaS_tj_kHf6z-2CxtZeQ\"\n",
    "url3 = \"https://drive.google.com/open?id=1peYloP2wggnguWhQ6IhbWVTjd5WyAWWL\"\n",
    "url4 = \"https://drive.google.com/open?id=1A8KeaHWdJP5zVv4RhvwC4n4rfnFtBojE\"\n",
    "url5 = \"https://drive.google.com/open?id=19nxG3ftaKqLSMsYMt2NQqxuXO1WtnMJw\"\n",
    "url6 = \"https://drive.google.com/open?id=1jCuHTRlU-N70V3ye_ltnl8LHxd0Pskj1\""
   ]
  },
  {
   "cell_type": "markdown",
   "metadata": {},
   "source": [
    "plus a [dictionary](https://drive.google.com/open?id=1KNbO1Ctm2rh64QL2eQXBD7iOsHl4mifp)."
   ]
  },
  {
   "cell_type": "markdown",
   "metadata": {},
   "source": [
    "# Exploratory Data Analysis"
   ]
  },
  {
   "cell_type": "code",
   "execution_count": 2,
   "metadata": {},
   "outputs": [],
   "source": [
    "import pandas as pd\n",
    "import io\n",
    "import requests"
   ]
  },
  {
   "cell_type": "code",
   "execution_count": 3,
   "metadata": {},
   "outputs": [],
   "source": [
    "import matplotlib.pyplot as plt\n",
    "%matplotlib inline"
   ]
  },
  {
   "cell_type": "code",
   "execution_count": 4,
   "metadata": {},
   "outputs": [],
   "source": [
    "datapath = '/media/pedro/Seagate Backup Plus Drive/Insight/datasets/DC_Week8'"
   ]
  },
  {
   "cell_type": "code",
   "execution_count": 5,
   "metadata": {},
   "outputs": [],
   "source": [
    "inputfiles=[]\n",
    "for i in range(1,6):\n",
    "    inputfiles.append(datapath+'/DOHMH_New_York_City_Restaurant_Inspection_Results_'+str(i)+'_of_6.txt')"
   ]
  },
  {
   "cell_type": "code",
   "execution_count": 6,
   "metadata": {},
   "outputs": [],
   "source": [
    "list_=[]\n",
    "for file_ in inputfiles:\n",
    "    df = pd.read_csv(file_,index_col=None, header=0)\n",
    "    list_.append(df)\n",
    "df = pd.concat(list_)"
   ]
  },
  {
   "cell_type": "code",
   "execution_count": 7,
   "metadata": {},
   "outputs": [
    {
     "data": {
      "text/html": [
       "<div>\n",
       "<style scoped>\n",
       "    .dataframe tbody tr th:only-of-type {\n",
       "        vertical-align: middle;\n",
       "    }\n",
       "\n",
       "    .dataframe tbody tr th {\n",
       "        vertical-align: top;\n",
       "    }\n",
       "\n",
       "    .dataframe thead th {\n",
       "        text-align: right;\n",
       "    }\n",
       "</style>\n",
       "<table border=\"1\" class=\"dataframe\">\n",
       "  <thead>\n",
       "    <tr style=\"text-align: right;\">\n",
       "      <th></th>\n",
       "      <th>Unnamed: 0</th>\n",
       "      <th>CAMIS</th>\n",
       "      <th>DBA</th>\n",
       "      <th>BORO</th>\n",
       "      <th>BUILDING</th>\n",
       "      <th>STREET</th>\n",
       "      <th>ZIPCODE</th>\n",
       "      <th>PHONE</th>\n",
       "      <th>CUISINE DESCRIPTION</th>\n",
       "      <th>INSPECTION DATE</th>\n",
       "      <th>ACTION</th>\n",
       "      <th>VIOLATION CODE</th>\n",
       "      <th>VIOLATION DESCRIPTION</th>\n",
       "      <th>CRITICAL FLAG</th>\n",
       "      <th>SCORE</th>\n",
       "      <th>GRADE</th>\n",
       "      <th>GRADE DATE</th>\n",
       "      <th>RECORD DATE</th>\n",
       "      <th>INSPECTION TYPE</th>\n",
       "    </tr>\n",
       "  </thead>\n",
       "  <tbody>\n",
       "    <tr>\n",
       "      <th>0</th>\n",
       "      <td>0</td>\n",
       "      <td>40511702</td>\n",
       "      <td>NOTARO RESTAURANT</td>\n",
       "      <td>MANHATTAN</td>\n",
       "      <td>635</td>\n",
       "      <td>SECOND AVENUE</td>\n",
       "      <td>10016.0</td>\n",
       "      <td>2126863400</td>\n",
       "      <td>Italian</td>\n",
       "      <td>06/15/2015</td>\n",
       "      <td>Violations were cited in the following area(s).</td>\n",
       "      <td>02B</td>\n",
       "      <td>Hot food item not held at or above 140Âº F.</td>\n",
       "      <td>Critical</td>\n",
       "      <td>30.0</td>\n",
       "      <td>NaN</td>\n",
       "      <td>NaN</td>\n",
       "      <td>08/28/2017</td>\n",
       "      <td>Cycle Inspection / Initial Inspection</td>\n",
       "    </tr>\n",
       "    <tr>\n",
       "      <th>1</th>\n",
       "      <td>1</td>\n",
       "      <td>40511702</td>\n",
       "      <td>NOTARO RESTAURANT</td>\n",
       "      <td>MANHATTAN</td>\n",
       "      <td>635</td>\n",
       "      <td>SECOND AVENUE</td>\n",
       "      <td>10016.0</td>\n",
       "      <td>2126863400</td>\n",
       "      <td>Italian</td>\n",
       "      <td>11/25/2014</td>\n",
       "      <td>Violations were cited in the following area(s).</td>\n",
       "      <td>20F</td>\n",
       "      <td>Current letter grade card not posted.</td>\n",
       "      <td>Not Critical</td>\n",
       "      <td>NaN</td>\n",
       "      <td>NaN</td>\n",
       "      <td>NaN</td>\n",
       "      <td>08/28/2017</td>\n",
       "      <td>Administrative Miscellaneous / Initial Inspection</td>\n",
       "    </tr>\n",
       "    <tr>\n",
       "      <th>2</th>\n",
       "      <td>2</td>\n",
       "      <td>50046354</td>\n",
       "      <td>VITE BAR</td>\n",
       "      <td>QUEENS</td>\n",
       "      <td>2507</td>\n",
       "      <td>BROADWAY</td>\n",
       "      <td>11106.0</td>\n",
       "      <td>3478134702</td>\n",
       "      <td>Italian</td>\n",
       "      <td>10/03/2016</td>\n",
       "      <td>Violations were cited in the following area(s).</td>\n",
       "      <td>10F</td>\n",
       "      <td>Non-food contact surface improperly constructe...</td>\n",
       "      <td>Not Critical</td>\n",
       "      <td>2.0</td>\n",
       "      <td>NaN</td>\n",
       "      <td>NaN</td>\n",
       "      <td>08/28/2017</td>\n",
       "      <td>Pre-permit (Operational) / Initial Inspection</td>\n",
       "    </tr>\n",
       "    <tr>\n",
       "      <th>3</th>\n",
       "      <td>3</td>\n",
       "      <td>50061389</td>\n",
       "      <td>TACK'S CHINESE TAKE OUT</td>\n",
       "      <td>STATEN ISLAND</td>\n",
       "      <td>11C</td>\n",
       "      <td>HOLDEN BLVD</td>\n",
       "      <td>10314.0</td>\n",
       "      <td>7189839854</td>\n",
       "      <td>Chinese</td>\n",
       "      <td>05/17/2017</td>\n",
       "      <td>Violations were cited in the following area(s).</td>\n",
       "      <td>02G</td>\n",
       "      <td>Cold food item held above 41Âº F (smoked fish ...</td>\n",
       "      <td>Critical</td>\n",
       "      <td>46.0</td>\n",
       "      <td>NaN</td>\n",
       "      <td>NaN</td>\n",
       "      <td>08/28/2017</td>\n",
       "      <td>Pre-permit (Operational) / Initial Inspection</td>\n",
       "    </tr>\n",
       "    <tr>\n",
       "      <th>4</th>\n",
       "      <td>4</td>\n",
       "      <td>41516263</td>\n",
       "      <td>NO QUARTER</td>\n",
       "      <td>BROOKLYN</td>\n",
       "      <td>8015</td>\n",
       "      <td>5 AVENUE</td>\n",
       "      <td>11209.0</td>\n",
       "      <td>7187019180</td>\n",
       "      <td>American</td>\n",
       "      <td>03/30/2017</td>\n",
       "      <td>Violations were cited in the following area(s).</td>\n",
       "      <td>04M</td>\n",
       "      <td>Live roaches present in facility's food and/or...</td>\n",
       "      <td>Critical</td>\n",
       "      <td>18.0</td>\n",
       "      <td>NaN</td>\n",
       "      <td>NaN</td>\n",
       "      <td>08/28/2017</td>\n",
       "      <td>Cycle Inspection / Initial Inspection</td>\n",
       "    </tr>\n",
       "  </tbody>\n",
       "</table>\n",
       "</div>"
      ],
      "text/plain": [
       "   Unnamed: 0     CAMIS                      DBA           BORO BUILDING  \\\n",
       "0           0  40511702        NOTARO RESTAURANT      MANHATTAN      635   \n",
       "1           1  40511702        NOTARO RESTAURANT      MANHATTAN      635   \n",
       "2           2  50046354                 VITE BAR         QUEENS     2507   \n",
       "3           3  50061389  TACK'S CHINESE TAKE OUT  STATEN ISLAND      11C   \n",
       "4           4  41516263               NO QUARTER       BROOKLYN     8015   \n",
       "\n",
       "          STREET  ZIPCODE       PHONE CUISINE DESCRIPTION INSPECTION DATE  \\\n",
       "0  SECOND AVENUE  10016.0  2126863400             Italian      06/15/2015   \n",
       "1  SECOND AVENUE  10016.0  2126863400             Italian      11/25/2014   \n",
       "2       BROADWAY  11106.0  3478134702             Italian      10/03/2016   \n",
       "3    HOLDEN BLVD  10314.0  7189839854             Chinese      05/17/2017   \n",
       "4       5 AVENUE  11209.0  7187019180            American      03/30/2017   \n",
       "\n",
       "                                            ACTION VIOLATION CODE  \\\n",
       "0  Violations were cited in the following area(s).            02B   \n",
       "1  Violations were cited in the following area(s).            20F   \n",
       "2  Violations were cited in the following area(s).            10F   \n",
       "3  Violations were cited in the following area(s).            02G   \n",
       "4  Violations were cited in the following area(s).            04M   \n",
       "\n",
       "                               VIOLATION DESCRIPTION CRITICAL FLAG  SCORE  \\\n",
       "0        Hot food item not held at or above 140Âº F.      Critical   30.0   \n",
       "1              Current letter grade card not posted.  Not Critical    NaN   \n",
       "2  Non-food contact surface improperly constructe...  Not Critical    2.0   \n",
       "3  Cold food item held above 41Âº F (smoked fish ...      Critical   46.0   \n",
       "4  Live roaches present in facility's food and/or...      Critical   18.0   \n",
       "\n",
       "  GRADE GRADE DATE RECORD DATE  \\\n",
       "0   NaN        NaN  08/28/2017   \n",
       "1   NaN        NaN  08/28/2017   \n",
       "2   NaN        NaN  08/28/2017   \n",
       "3   NaN        NaN  08/28/2017   \n",
       "4   NaN        NaN  08/28/2017   \n",
       "\n",
       "                                     INSPECTION TYPE  \n",
       "0              Cycle Inspection / Initial Inspection  \n",
       "1  Administrative Miscellaneous / Initial Inspection  \n",
       "2      Pre-permit (Operational) / Initial Inspection  \n",
       "3      Pre-permit (Operational) / Initial Inspection  \n",
       "4              Cycle Inspection / Initial Inspection  "
      ]
     },
     "execution_count": 7,
     "metadata": {},
     "output_type": "execute_result"
    }
   ],
   "source": [
    "df.head()"
   ]
  },
  {
   "cell_type": "markdown",
   "metadata": {},
   "source": [
    "Let's drop this useless second column:"
   ]
  },
  {
   "cell_type": "code",
   "execution_count": 8,
   "metadata": {},
   "outputs": [],
   "source": [
    "df = df.drop(columns = [df.columns[0]])"
   ]
  },
  {
   "cell_type": "markdown",
   "metadata": {},
   "source": [
    "Lower case the column names"
   ]
  },
  {
   "cell_type": "code",
   "execution_count": 9,
   "metadata": {},
   "outputs": [],
   "source": [
    "df.columns = df.columns.str.lower()"
   ]
  },
  {
   "cell_type": "code",
   "execution_count": 10,
   "metadata": {},
   "outputs": [],
   "source": [
    "df.columns = df.columns.str.replace(' ', '_')"
   ]
  },
  {
   "cell_type": "markdown",
   "metadata": {},
   "source": [
    "Let's look at what fraction of our restaurants have been inspected:"
   ]
  },
  {
   "cell_type": "code",
   "execution_count": 11,
   "metadata": {},
   "outputs": [
    {
     "data": {
      "text/plain": [
       "0"
      ]
     },
     "execution_count": 11,
     "metadata": {},
     "output_type": "execute_result"
    }
   ],
   "source": [
    "sum(df['inspection_date'].isna())"
   ]
  },
  {
   "cell_type": "markdown",
   "metadata": {},
   "source": [
    "Ok so our dataset only has restaurants that have been expected at some point"
   ]
  },
  {
   "cell_type": "code",
   "execution_count": 12,
   "metadata": {},
   "outputs": [
    {
     "name": "stdout",
     "output_type": "stream",
     "text": [
      "<class 'pandas.core.frame.DataFrame'>\n",
      "Int64Index: 333265 entries, 0 to 66652\n",
      "Data columns (total 18 columns):\n",
      "camis                    333265 non-null int64\n",
      "dba                      332974 non-null object\n",
      "boro                     333265 non-null object\n",
      "building                 333176 non-null object\n",
      "street                   333257 non-null object\n",
      "zipcode                  333257 non-null float64\n",
      "phone                    333260 non-null object\n",
      "cuisine_description      333265 non-null object\n",
      "inspection_date          333265 non-null object\n",
      "action                   332315 non-null object\n",
      "violation_code           327801 non-null object\n",
      "violation_description    327397 non-null object\n",
      "critical_flag            333265 non-null object\n",
      "score                    313817 non-null float64\n",
      "grade                    162863 non-null object\n",
      "grade_date               160700 non-null object\n",
      "record_date              333265 non-null object\n",
      "inspection_type          332315 non-null object\n",
      "dtypes: float64(2), int64(1), object(15)\n",
      "memory usage: 48.3+ MB\n"
     ]
    }
   ],
   "source": [
    "df.info()"
   ]
  },
  {
   "cell_type": "markdown",
   "metadata": {},
   "source": [
    "We see that the columns 'GRADE' and 'GRADE DATE' have missing values about half the time, and a total of 66653 rows in our table (1_of_6)."
   ]
  },
  {
   "cell_type": "code",
   "execution_count": 13,
   "metadata": {},
   "outputs": [
    {
     "data": {
      "text/html": [
       "<div>\n",
       "<style scoped>\n",
       "    .dataframe tbody tr th:only-of-type {\n",
       "        vertical-align: middle;\n",
       "    }\n",
       "\n",
       "    .dataframe tbody tr th {\n",
       "        vertical-align: top;\n",
       "    }\n",
       "\n",
       "    .dataframe thead th {\n",
       "        text-align: right;\n",
       "    }\n",
       "</style>\n",
       "<table border=\"1\" class=\"dataframe\">\n",
       "  <thead>\n",
       "    <tr style=\"text-align: right;\">\n",
       "      <th></th>\n",
       "      <th>camis</th>\n",
       "      <th>zipcode</th>\n",
       "      <th>score</th>\n",
       "    </tr>\n",
       "  </thead>\n",
       "  <tbody>\n",
       "    <tr>\n",
       "      <th>count</th>\n",
       "      <td>3.332650e+05</td>\n",
       "      <td>333257.000000</td>\n",
       "      <td>313817.000000</td>\n",
       "    </tr>\n",
       "    <tr>\n",
       "      <th>mean</th>\n",
       "      <td>4.441675e+07</td>\n",
       "      <td>10673.045055</td>\n",
       "      <td>18.905327</td>\n",
       "    </tr>\n",
       "    <tr>\n",
       "      <th>std</th>\n",
       "      <td>4.244860e+06</td>\n",
       "      <td>599.021620</td>\n",
       "      <td>12.948253</td>\n",
       "    </tr>\n",
       "    <tr>\n",
       "      <th>min</th>\n",
       "      <td>3.007544e+07</td>\n",
       "      <td>10001.000000</td>\n",
       "      <td>-2.000000</td>\n",
       "    </tr>\n",
       "    <tr>\n",
       "      <th>25%</th>\n",
       "      <td>4.121652e+07</td>\n",
       "      <td>10022.000000</td>\n",
       "      <td>11.000000</td>\n",
       "    </tr>\n",
       "    <tr>\n",
       "      <th>50%</th>\n",
       "      <td>4.160924e+07</td>\n",
       "      <td>10467.000000</td>\n",
       "      <td>15.000000</td>\n",
       "    </tr>\n",
       "    <tr>\n",
       "      <th>75%</th>\n",
       "      <td>5.000924e+07</td>\n",
       "      <td>11229.000000</td>\n",
       "      <td>24.000000</td>\n",
       "    </tr>\n",
       "    <tr>\n",
       "      <th>max</th>\n",
       "      <td>5.006908e+07</td>\n",
       "      <td>11697.000000</td>\n",
       "      <td>151.000000</td>\n",
       "    </tr>\n",
       "  </tbody>\n",
       "</table>\n",
       "</div>"
      ],
      "text/plain": [
       "              camis        zipcode          score\n",
       "count  3.332650e+05  333257.000000  313817.000000\n",
       "mean   4.441675e+07   10673.045055      18.905327\n",
       "std    4.244860e+06     599.021620      12.948253\n",
       "min    3.007544e+07   10001.000000      -2.000000\n",
       "25%    4.121652e+07   10022.000000      11.000000\n",
       "50%    4.160924e+07   10467.000000      15.000000\n",
       "75%    5.000924e+07   11229.000000      24.000000\n",
       "max    5.006908e+07   11697.000000     151.000000"
      ]
     },
     "execution_count": 13,
     "metadata": {},
     "output_type": "execute_result"
    }
   ],
   "source": [
    "df.describe()"
   ]
  },
  {
   "cell_type": "markdown",
   "metadata": {},
   "source": [
    "Let's plot some interesting distributions:"
   ]
  },
  {
   "cell_type": "code",
   "execution_count": 14,
   "metadata": {},
   "outputs": [],
   "source": [
    "cat_vars = ['violation_code', 'critical_flag', 'score', 'grade', \n",
    "            'inspection_type', 'action', 'boro', 'cuisine_description']"
   ]
  },
  {
   "cell_type": "code",
   "execution_count": 15,
   "metadata": {},
   "outputs": [
    {
     "data": {
      "image/png": "[encoded data removed]",
      "text/plain": [
       "<Figure size 720x432 with 1 Axes>"
      ]
     },
     "metadata": {
      "needs_background": "light"
     },
     "output_type": "display_data"
    }
   ],
   "source": [
    "fig, ax = plt.subplots(figsize=(10,6))\n",
    "c = cat_vars[0]\n",
    "c_top10 = df[c].value_counts()[:10]\n",
    "plt.bar( x=c_top10.index.str[:50], height = c_top10)\n",
    "plt.xticks(rotation=75);\n",
    "ax.set_ylabel('Counts', fontsize=16);\n",
    "ax.set_title(c, fontsize=16);"
   ]
  },
  {
   "cell_type": "code",
   "execution_count": 16,
   "metadata": {},
   "outputs": [
    {
     "name": "stdout",
     "output_type": "stream",
     "text": [
      "Index(['02A', '02B', '02C', '02D', '02E', '02F', '02G', '02H', '02I', '02J',\n",
      "       '03A', '03B', '03C', '03D', '03E', '03F', '03G', '04A', '04B', '04C',\n",
      "       '04D', '04E', '04F', '04G', '04H', '04I', '04J', '04K', '04L', '04M',\n",
      "       '04N', '04O', '05A', '05B', '05C', '05D', '05E', '05F', '05H', '05I',\n",
      "       '06A', '06B', '06C', '06D', '06E', '06F', '06G', '06H', '06I', '07A'],\n",
      "      dtype='object')\n"
     ]
    }
   ],
   "source": [
    "critical_violations = df.loc[df['critical_flag']=='Critical', 'violation_code'].value_counts().index.sort_values()\n",
    "print(critical_violations)"
   ]
  },
  {
   "cell_type": "markdown",
   "metadata": {},
   "source": [
    "We see that ['02G', '04L', '06D', '06C', 'O2B', 'O4N'] are all fairly common critical violations. Let's see what they mean:"
   ]
  },
  {
   "cell_type": "code",
   "execution_count": 17,
   "metadata": {},
   "outputs": [
    {
     "data": {
      "text/html": [
       "<div>\n",
       "<style scoped>\n",
       "    .dataframe tbody tr th:only-of-type {\n",
       "        vertical-align: middle;\n",
       "    }\n",
       "\n",
       "    .dataframe tbody tr th {\n",
       "        vertical-align: top;\n",
       "    }\n",
       "\n",
       "    .dataframe thead th {\n",
       "        text-align: right;\n",
       "    }\n",
       "</style>\n",
       "<table border=\"1\" class=\"dataframe\">\n",
       "  <thead>\n",
       "    <tr style=\"text-align: right;\">\n",
       "      <th></th>\n",
       "      <th>violation_code</th>\n",
       "      <th>violation_description</th>\n",
       "    </tr>\n",
       "  </thead>\n",
       "  <tbody>\n",
       "    <tr>\n",
       "      <th>3</th>\n",
       "      <td>02G</td>\n",
       "      <td>Cold food item held above 41Âº F (smoked fish ...</td>\n",
       "    </tr>\n",
       "    <tr>\n",
       "      <th>13</th>\n",
       "      <td>08A</td>\n",
       "      <td>Facility not vermin proof. Harborage or condit...</td>\n",
       "    </tr>\n",
       "    <tr>\n",
       "      <th>24</th>\n",
       "      <td>06C</td>\n",
       "      <td>Food not protected from potential source of co...</td>\n",
       "    </tr>\n",
       "    <tr>\n",
       "      <th>29</th>\n",
       "      <td>06D</td>\n",
       "      <td>Food contact surface not properly washed, rins...</td>\n",
       "    </tr>\n",
       "    <tr>\n",
       "      <th>49</th>\n",
       "      <td>04L</td>\n",
       "      <td>Evidence of mice or live mice present in facil...</td>\n",
       "    </tr>\n",
       "  </tbody>\n",
       "</table>\n",
       "</div>"
      ],
      "text/plain": [
       "   violation_code                              violation_description\n",
       "3             02G  Cold food item held above 41Âº F (smoked fish ...\n",
       "13            08A  Facility not vermin proof. Harborage or condit...\n",
       "24            06C  Food not protected from potential source of co...\n",
       "29            06D  Food contact surface not properly washed, rins...\n",
       "49            04L  Evidence of mice or live mice present in facil..."
      ]
     },
     "execution_count": 17,
     "metadata": {},
     "output_type": "execute_result"
    }
   ],
   "source": [
    "df.loc[df['violation_code'].isin(['02G', '04L', '06D', '06C', 'O2B', 'O4N', '08A']), \n",
    "       ['violation_code','violation_description']].drop_duplicates()"
   ]
  },
  {
   "cell_type": "code",
   "execution_count": 18,
   "metadata": {},
   "outputs": [
    {
     "data": {
      "image/png": "[encoded data removed]",
      "text/plain": [
       "<Figure size 720x432 with 1 Axes>"
      ]
     },
     "metadata": {
      "needs_background": "light"
     },
     "output_type": "display_data"
    }
   ],
   "source": [
    "fig, ax = plt.subplots(figsize=(10,6))\n",
    "c = cat_vars[1]\n",
    "c_top10 = df[c].value_counts()[:10]\n",
    "plt.bar( x=c_top10.index, height = c_top10)\n",
    "plt.xticks(rotation=75);\n",
    "ax.set_ylabel('Counts', fontsize=16);\n",
    "ax.set_title(c, fontsize=16);"
   ]
  },
  {
   "cell_type": "code",
   "execution_count": 19,
   "metadata": {},
   "outputs": [
    {
     "data": {
      "image/png": "[encoded data removed]",
      "text/plain": [
       "<Figure size 720x432 with 1 Axes>"
      ]
     },
     "metadata": {
      "needs_background": "light"
     },
     "output_type": "display_data"
    }
   ],
   "source": [
    "fig, ax = plt.subplots(figsize=(10,6))\n",
    "c = cat_vars[2]\n",
    "c_top10 = df[c].value_counts()[:60]\n",
    "plt.bar( x=c_top10.index, height = c_top10)\n",
    "plt.xticks(rotation=75);\n",
    "ax.set_ylabel('Counts', fontsize=16);\n",
    "ax.set_title(c, fontsize=16);"
   ]
  },
  {
   "cell_type": "code",
   "execution_count": 20,
   "metadata": {},
   "outputs": [
    {
     "data": {
      "image/png": "[encoded data removed]",
      "text/plain": [
       "<Figure size 720x432 with 1 Axes>"
      ]
     },
     "metadata": {
      "needs_background": "light"
     },
     "output_type": "display_data"
    }
   ],
   "source": [
    "fig, ax = plt.subplots(figsize=(10,6))\n",
    "c = cat_vars[3]\n",
    "c_top10 = df[c].value_counts()[:10]\n",
    "plt.bar( x=c_top10.index, height = c_top10)\n",
    "plt.xticks(rotation=75);\n",
    "ax.set_ylabel('Counts', fontsize=16);\n",
    "ax.set_title(c, fontsize=16);"
   ]
  },
  {
   "cell_type": "code",
   "execution_count": 21,
   "metadata": {},
   "outputs": [
    {
     "data": {
      "image/png": "[encoded data removed]",
      "text/plain": [
       "<Figure size 720x432 with 1 Axes>"
      ]
     },
     "metadata": {
      "needs_background": "light"
     },
     "output_type": "display_data"
    }
   ],
   "source": [
    "fig, ax = plt.subplots(figsize=(10,6))\n",
    "c = cat_vars[4]\n",
    "c_top10 = df[c].value_counts()[:10]\n",
    "plt.bar( x=c_top10.index, height = c_top10)\n",
    "plt.xticks(rotation=75);\n",
    "ax.set_ylabel('Counts', fontsize=16);\n",
    "ax.set_title(c, fontsize=16);"
   ]
  },
  {
   "cell_type": "code",
   "execution_count": 22,
   "metadata": {},
   "outputs": [
    {
     "data": {
      "image/png": "[encoded data removed]",
      "text/plain": [
       "<Figure size 720x432 with 1 Axes>"
      ]
     },
     "metadata": {
      "needs_background": "light"
     },
     "output_type": "display_data"
    }
   ],
   "source": [
    "fig, ax = plt.subplots(figsize=(10,6))\n",
    "c = cat_vars[5]\n",
    "c_top10 = df[c].value_counts()[:10]\n",
    "plt.bar( x=c_top10.index.str[:50], height = c_top10)\n",
    "plt.xticks(rotation=75);\n",
    "ax.set_ylabel('Counts', fontsize=16);\n",
    "ax.set_title(c, fontsize=16);\n",
    "ax.set_yscale('log')"
   ]
  },
  {
   "cell_type": "code",
   "execution_count": 23,
   "metadata": {},
   "outputs": [
    {
     "data": {
      "text/plain": [
       "0.02313474262223756"
      ]
     },
     "execution_count": 23,
     "metadata": {},
     "output_type": "execute_result"
    }
   ],
   "source": [
    "df['action'].value_counts()[1]/df.shape[0]"
   ]
  },
  {
   "cell_type": "code",
   "execution_count": 24,
   "metadata": {
    "scrolled": true
   },
   "outputs": [
    {
     "data": {
      "image/png": "[encoded data removed]",
      "text/plain": [
       "<Figure size 432x288 with 1 Axes>"
      ]
     },
     "metadata": {
      "needs_background": "light"
     },
     "output_type": "display_data"
    }
   ],
   "source": [
    "fig, ax = plt.subplots(figsize=(6,4))\n",
    "c = cat_vars[6]\n",
    "c_top10 = df[c].value_counts()[:10]\n",
    "plt.bar( x=c_top10.index, height = c_top10)\n",
    "plt.xticks(rotation=75);\n",
    "ax.set_ylabel('Counts', fontsize=16);\n",
    "ax.set_title('Borough', fontsize=16);"
   ]
  },
  {
   "cell_type": "code",
   "execution_count": 25,
   "metadata": {},
   "outputs": [
    {
     "data": {
      "image/png": "[encoded data removed]",
      "text/plain": [
       "<Figure size 432x288 with 1 Axes>"
      ]
     },
     "metadata": {
      "needs_background": "light"
     },
     "output_type": "display_data"
    }
   ],
   "source": [
    "fig, ax = plt.subplots(figsize=(6,4))\n",
    "c = cat_vars[7]\n",
    "c_top10 = df[c].value_counts()[:10]\n",
    "plt.bar( x=c_top10.index.str[:20], height = c_top10)\n",
    "plt.xticks(rotation=75);\n",
    "ax.set_ylabel('Counts', fontsize=16);\n",
    "ax.set_title('Cuisine', fontsize=16);"
   ]
  },
  {
   "cell_type": "markdown",
   "metadata": {},
   "source": [
    "### Thus we can make the following preliminary conclusions:"
   ]
  },
  {
   "cell_type": "markdown",
   "metadata": {},
   "source": [
    "- The overwhelmingly most common action following an inspection was to simply cite the restaurant in certain areas (95%).\n",
    "- 2% of restaurants are closed following an inspection\n",
    "- The most common grade awarded is an 'A'\n",
    "- The majority of inspections are cycle inspections (either during opening or a re-inspection), followed by the same cycle inspections for operational reasons.\n",
    "- The score distribution is bimodal, with a sharp peak at 12 and a broader one at 20.\n",
    "- '10F' and '08A' are the most common violations\n",
    "- A little more than half the violations have high risk of causing food illness\n",
    "- The majority of restaurants serve 'American' food, followed by chinese and then a fairly even spread of other cuisines"
   ]
  },
  {
   "cell_type": "markdown",
   "metadata": {},
   "source": [
    "## Let's predict restaurants that are likely to pass health inspections\n",
    "\n",
    "We may want to optimize how we flag restaurants for inspections. A very high end restaurant may be far less likely to fail inspections than others, or perhaps it is cuisine-specific. \n",
    "\n",
    "Can we build a model to give a probability that an inspection will actually lead to a restaurant closure? Let's try!"
   ]
  },
  {
   "cell_type": "markdown",
   "metadata": {},
   "source": [
    "First of all I can't use features that only exist after the inspection is performed, that'd be cheating. For example, I want to predict 'ACTION' but using 'GRADE' or 'SCORE' is not realistic. Let's list the features we can actually use:"
   ]
  },
  {
   "cell_type": "code",
   "execution_count": 26,
   "metadata": {},
   "outputs": [
    {
     "data": {
      "text/plain": [
       "Index(['camis', 'dba', 'boro', 'building', 'street', 'zipcode', 'phone',\n",
       "       'cuisine_description', 'inspection_date', 'action', 'violation_code',\n",
       "       'violation_description', 'critical_flag', 'score', 'grade',\n",
       "       'grade_date', 'record_date', 'inspection_type'],\n",
       "      dtype='object')"
      ]
     },
     "execution_count": 26,
     "metadata": {},
     "output_type": "execute_result"
    }
   ],
   "source": [
    "df.columns"
   ]
  },
  {
   "cell_type": "code",
   "execution_count": 27,
   "metadata": {},
   "outputs": [],
   "source": [
    "cols_can_use = ['camis', 'dba', 'boro', 'building', 'street', 'zipcode', 'phone', 'cuisine_description']"
   ]
  },
  {
   "cell_type": "markdown",
   "metadata": {},
   "source": [
    "Of the above we see we have very few features to make this prediction. The 'camis', 'dba', 'building', 'phone' columns probably add little to nothing to our predictive power. The 'street' ('boro') column are probably too granular (coarse) and redundant with 'zipcode'. \n",
    "\n",
    "So that leaves us with basically 2 variables: zipcode and cuisine_description. **Thus we find that this data is likely insufficient to give a probability estimator of a restaurant shutting down**"
   ]
  },
  {
   "cell_type": "code",
   "execution_count": 28,
   "metadata": {},
   "outputs": [
    {
     "data": {
      "text/plain": [
       "Violations were cited in the following area(s).                                                                                        317171\n",
       "Establishment Closed by DOHMH.  Violations were cited in the following area(s) and those requiring immediate action were addressed.      7710\n",
       "No violations were recorded at the time of this inspection.                                                                              4517\n",
       "Establishment re-opened by DOHMH                                                                                                         2227\n",
       "Establishment re-closed by DOHMH                                                                                                          690\n",
       "Name: action, dtype: int64"
      ]
     },
     "execution_count": 28,
     "metadata": {},
     "output_type": "execute_result"
    }
   ],
   "source": [
    "df['action'].value_counts()"
   ]
  },
  {
   "cell_type": "code",
   "execution_count": 29,
   "metadata": {},
   "outputs": [],
   "source": [
    "temp = pd.get_dummies(df['action'])"
   ]
  },
  {
   "cell_type": "code",
   "execution_count": 30,
   "metadata": {},
   "outputs": [
    {
     "data": {
      "text/html": [
       "<div>\n",
       "<style scoped>\n",
       "    .dataframe tbody tr th:only-of-type {\n",
       "        vertical-align: middle;\n",
       "    }\n",
       "\n",
       "    .dataframe tbody tr th {\n",
       "        vertical-align: top;\n",
       "    }\n",
       "\n",
       "    .dataframe thead th {\n",
       "        text-align: right;\n",
       "    }\n",
       "</style>\n",
       "<table border=\"1\" class=\"dataframe\">\n",
       "  <thead>\n",
       "    <tr style=\"text-align: right;\">\n",
       "      <th></th>\n",
       "      <th>Establishment Closed by DOHMH.  Violations were cited in the following area(s) and those requiring immediate action were addressed.</th>\n",
       "      <th>Establishment re-closed by DOHMH</th>\n",
       "      <th>Establishment re-opened by DOHMH</th>\n",
       "      <th>No violations were recorded at the time of this inspection.</th>\n",
       "      <th>Violations were cited in the following area(s).</th>\n",
       "    </tr>\n",
       "  </thead>\n",
       "  <tbody>\n",
       "    <tr>\n",
       "      <th>0</th>\n",
       "      <td>0</td>\n",
       "      <td>0</td>\n",
       "      <td>0</td>\n",
       "      <td>0</td>\n",
       "      <td>1</td>\n",
       "    </tr>\n",
       "    <tr>\n",
       "      <th>1</th>\n",
       "      <td>0</td>\n",
       "      <td>0</td>\n",
       "      <td>0</td>\n",
       "      <td>0</td>\n",
       "      <td>1</td>\n",
       "    </tr>\n",
       "    <tr>\n",
       "      <th>2</th>\n",
       "      <td>0</td>\n",
       "      <td>0</td>\n",
       "      <td>0</td>\n",
       "      <td>0</td>\n",
       "      <td>1</td>\n",
       "    </tr>\n",
       "    <tr>\n",
       "      <th>3</th>\n",
       "      <td>0</td>\n",
       "      <td>0</td>\n",
       "      <td>0</td>\n",
       "      <td>0</td>\n",
       "      <td>1</td>\n",
       "    </tr>\n",
       "    <tr>\n",
       "      <th>4</th>\n",
       "      <td>0</td>\n",
       "      <td>0</td>\n",
       "      <td>0</td>\n",
       "      <td>0</td>\n",
       "      <td>1</td>\n",
       "    </tr>\n",
       "  </tbody>\n",
       "</table>\n",
       "</div>"
      ],
      "text/plain": [
       "   Establishment Closed by DOHMH.  Violations were cited in the following area(s) and those requiring immediate action were addressed.  \\\n",
       "0                                                  0                                                                                     \n",
       "1                                                  0                                                                                     \n",
       "2                                                  0                                                                                     \n",
       "3                                                  0                                                                                     \n",
       "4                                                  0                                                                                     \n",
       "\n",
       "   Establishment re-closed by DOHMH  Establishment re-opened by DOHMH  \\\n",
       "0                                 0                                 0   \n",
       "1                                 0                                 0   \n",
       "2                                 0                                 0   \n",
       "3                                 0                                 0   \n",
       "4                                 0                                 0   \n",
       "\n",
       "   No violations were recorded at the time of this inspection.  \\\n",
       "0                                                  0             \n",
       "1                                                  0             \n",
       "2                                                  0             \n",
       "3                                                  0             \n",
       "4                                                  0             \n",
       "\n",
       "   Violations were cited in the following area(s).  \n",
       "0                                                1  \n",
       "1                                                1  \n",
       "2                                                1  \n",
       "3                                                1  \n",
       "4                                                1  "
      ]
     },
     "execution_count": 30,
     "metadata": {},
     "output_type": "execute_result"
    }
   ],
   "source": [
    "temp.head()"
   ]
  },
  {
   "cell_type": "code",
   "execution_count": 31,
   "metadata": {},
   "outputs": [],
   "source": [
    "temp.columns = ['closed', 'reclosed', 'reopened', 'noviolations', 'citation']"
   ]
  },
  {
   "cell_type": "code",
   "execution_count": 32,
   "metadata": {},
   "outputs": [],
   "source": [
    "df = pd.concat([df, temp], axis=1)"
   ]
  },
  {
   "cell_type": "code",
   "execution_count": 33,
   "metadata": {},
   "outputs": [
    {
     "data": {
      "text/html": [
       "<div>\n",
       "<style scoped>\n",
       "    .dataframe tbody tr th:only-of-type {\n",
       "        vertical-align: middle;\n",
       "    }\n",
       "\n",
       "    .dataframe tbody tr th {\n",
       "        vertical-align: top;\n",
       "    }\n",
       "\n",
       "    .dataframe thead th {\n",
       "        text-align: right;\n",
       "    }\n",
       "</style>\n",
       "<table border=\"1\" class=\"dataframe\">\n",
       "  <thead>\n",
       "    <tr style=\"text-align: right;\">\n",
       "      <th></th>\n",
       "      <th>camis</th>\n",
       "      <th>dba</th>\n",
       "      <th>boro</th>\n",
       "      <th>building</th>\n",
       "      <th>street</th>\n",
       "      <th>zipcode</th>\n",
       "      <th>phone</th>\n",
       "      <th>cuisine_description</th>\n",
       "      <th>inspection_date</th>\n",
       "      <th>action</th>\n",
       "      <th>...</th>\n",
       "      <th>score</th>\n",
       "      <th>grade</th>\n",
       "      <th>grade_date</th>\n",
       "      <th>record_date</th>\n",
       "      <th>inspection_type</th>\n",
       "      <th>closed</th>\n",
       "      <th>reclosed</th>\n",
       "      <th>reopened</th>\n",
       "      <th>noviolations</th>\n",
       "      <th>citation</th>\n",
       "    </tr>\n",
       "  </thead>\n",
       "  <tbody>\n",
       "    <tr>\n",
       "      <th>0</th>\n",
       "      <td>40511702</td>\n",
       "      <td>NOTARO RESTAURANT</td>\n",
       "      <td>MANHATTAN</td>\n",
       "      <td>635</td>\n",
       "      <td>SECOND AVENUE</td>\n",
       "      <td>10016.0</td>\n",
       "      <td>2126863400</td>\n",
       "      <td>Italian</td>\n",
       "      <td>06/15/2015</td>\n",
       "      <td>Violations were cited in the following area(s).</td>\n",
       "      <td>...</td>\n",
       "      <td>30.0</td>\n",
       "      <td>NaN</td>\n",
       "      <td>NaN</td>\n",
       "      <td>08/28/2017</td>\n",
       "      <td>Cycle Inspection / Initial Inspection</td>\n",
       "      <td>0</td>\n",
       "      <td>0</td>\n",
       "      <td>0</td>\n",
       "      <td>0</td>\n",
       "      <td>1</td>\n",
       "    </tr>\n",
       "    <tr>\n",
       "      <th>1</th>\n",
       "      <td>40511702</td>\n",
       "      <td>NOTARO RESTAURANT</td>\n",
       "      <td>MANHATTAN</td>\n",
       "      <td>635</td>\n",
       "      <td>SECOND AVENUE</td>\n",
       "      <td>10016.0</td>\n",
       "      <td>2126863400</td>\n",
       "      <td>Italian</td>\n",
       "      <td>11/25/2014</td>\n",
       "      <td>Violations were cited in the following area(s).</td>\n",
       "      <td>...</td>\n",
       "      <td>NaN</td>\n",
       "      <td>NaN</td>\n",
       "      <td>NaN</td>\n",
       "      <td>08/28/2017</td>\n",
       "      <td>Administrative Miscellaneous / Initial Inspection</td>\n",
       "      <td>0</td>\n",
       "      <td>0</td>\n",
       "      <td>0</td>\n",
       "      <td>0</td>\n",
       "      <td>1</td>\n",
       "    </tr>\n",
       "    <tr>\n",
       "      <th>2</th>\n",
       "      <td>50046354</td>\n",
       "      <td>VITE BAR</td>\n",
       "      <td>QUEENS</td>\n",
       "      <td>2507</td>\n",
       "      <td>BROADWAY</td>\n",
       "      <td>11106.0</td>\n",
       "      <td>3478134702</td>\n",
       "      <td>Italian</td>\n",
       "      <td>10/03/2016</td>\n",
       "      <td>Violations were cited in the following area(s).</td>\n",
       "      <td>...</td>\n",
       "      <td>2.0</td>\n",
       "      <td>NaN</td>\n",
       "      <td>NaN</td>\n",
       "      <td>08/28/2017</td>\n",
       "      <td>Pre-permit (Operational) / Initial Inspection</td>\n",
       "      <td>0</td>\n",
       "      <td>0</td>\n",
       "      <td>0</td>\n",
       "      <td>0</td>\n",
       "      <td>1</td>\n",
       "    </tr>\n",
       "    <tr>\n",
       "      <th>3</th>\n",
       "      <td>50061389</td>\n",
       "      <td>TACK'S CHINESE TAKE OUT</td>\n",
       "      <td>STATEN ISLAND</td>\n",
       "      <td>11C</td>\n",
       "      <td>HOLDEN BLVD</td>\n",
       "      <td>10314.0</td>\n",
       "      <td>7189839854</td>\n",
       "      <td>Chinese</td>\n",
       "      <td>05/17/2017</td>\n",
       "      <td>Violations were cited in the following area(s).</td>\n",
       "      <td>...</td>\n",
       "      <td>46.0</td>\n",
       "      <td>NaN</td>\n",
       "      <td>NaN</td>\n",
       "      <td>08/28/2017</td>\n",
       "      <td>Pre-permit (Operational) / Initial Inspection</td>\n",
       "      <td>0</td>\n",
       "      <td>0</td>\n",
       "      <td>0</td>\n",
       "      <td>0</td>\n",
       "      <td>1</td>\n",
       "    </tr>\n",
       "    <tr>\n",
       "      <th>4</th>\n",
       "      <td>41516263</td>\n",
       "      <td>NO QUARTER</td>\n",
       "      <td>BROOKLYN</td>\n",
       "      <td>8015</td>\n",
       "      <td>5 AVENUE</td>\n",
       "      <td>11209.0</td>\n",
       "      <td>7187019180</td>\n",
       "      <td>American</td>\n",
       "      <td>03/30/2017</td>\n",
       "      <td>Violations were cited in the following area(s).</td>\n",
       "      <td>...</td>\n",
       "      <td>18.0</td>\n",
       "      <td>NaN</td>\n",
       "      <td>NaN</td>\n",
       "      <td>08/28/2017</td>\n",
       "      <td>Cycle Inspection / Initial Inspection</td>\n",
       "      <td>0</td>\n",
       "      <td>0</td>\n",
       "      <td>0</td>\n",
       "      <td>0</td>\n",
       "      <td>1</td>\n",
       "    </tr>\n",
       "  </tbody>\n",
       "</table>\n",
       "<p>5 rows × 23 columns</p>\n",
       "</div>"
      ],
      "text/plain": [
       "      camis                      dba           boro building         street  \\\n",
       "0  40511702        NOTARO RESTAURANT      MANHATTAN      635  SECOND AVENUE   \n",
       "1  40511702        NOTARO RESTAURANT      MANHATTAN      635  SECOND AVENUE   \n",
       "2  50046354                 VITE BAR         QUEENS     2507       BROADWAY   \n",
       "3  50061389  TACK'S CHINESE TAKE OUT  STATEN ISLAND      11C    HOLDEN BLVD   \n",
       "4  41516263               NO QUARTER       BROOKLYN     8015       5 AVENUE   \n",
       "\n",
       "   zipcode       phone cuisine_description inspection_date  \\\n",
       "0  10016.0  2126863400             Italian      06/15/2015   \n",
       "1  10016.0  2126863400             Italian      11/25/2014   \n",
       "2  11106.0  3478134702             Italian      10/03/2016   \n",
       "3  10314.0  7189839854             Chinese      05/17/2017   \n",
       "4  11209.0  7187019180            American      03/30/2017   \n",
       "\n",
       "                                            action    ...    score grade  \\\n",
       "0  Violations were cited in the following area(s).    ...     30.0   NaN   \n",
       "1  Violations were cited in the following area(s).    ...      NaN   NaN   \n",
       "2  Violations were cited in the following area(s).    ...      2.0   NaN   \n",
       "3  Violations were cited in the following area(s).    ...     46.0   NaN   \n",
       "4  Violations were cited in the following area(s).    ...     18.0   NaN   \n",
       "\n",
       "  grade_date  record_date                                    inspection_type  \\\n",
       "0        NaN   08/28/2017              Cycle Inspection / Initial Inspection   \n",
       "1        NaN   08/28/2017  Administrative Miscellaneous / Initial Inspection   \n",
       "2        NaN   08/28/2017      Pre-permit (Operational) / Initial Inspection   \n",
       "3        NaN   08/28/2017      Pre-permit (Operational) / Initial Inspection   \n",
       "4        NaN   08/28/2017              Cycle Inspection / Initial Inspection   \n",
       "\n",
       "  closed reclosed reopened  noviolations  citation  \n",
       "0      0        0        0             0         1  \n",
       "1      0        0        0             0         1  \n",
       "2      0        0        0             0         1  \n",
       "3      0        0        0             0         1  \n",
       "4      0        0        0             0         1  \n",
       "\n",
       "[5 rows x 23 columns]"
      ]
     },
     "execution_count": 33,
     "metadata": {},
     "output_type": "execute_result"
    }
   ],
   "source": [
    "df.head()"
   ]
  },
  {
   "cell_type": "markdown",
   "metadata": {},
   "source": [
    "### Let's see if there is significant score/grade spread for similar violations\n",
    "\n",
    "Maybe we could automatize scoring to avoid outliers"
   ]
  },
  {
   "cell_type": "code",
   "execution_count": 34,
   "metadata": {},
   "outputs": [
    {
     "data": {
      "text/plain": [
       "<matplotlib.axes._subplots.AxesSubplot at 0x7fbe87be7828>"
      ]
     },
     "execution_count": 34,
     "metadata": {},
     "output_type": "execute_result"
    },
    {
     "data": {
      "image/png": "[encoded data removed]",
      "text/plain": [
       "<Figure size 432x288 with 1 Axes>"
      ]
     },
     "metadata": {
      "needs_background": "light"
     },
     "output_type": "display_data"
    }
   ],
   "source": [
    "df.loc[df['closed']==1, 'score'].hist()"
   ]
  },
  {
   "cell_type": "markdown",
   "metadata": {},
   "source": [
    "The department of health translates scores as the following:\n",
    "\n",
    "- 90 Good:\t\n",
    "    - Typically, only lower-risk health and safety violations observed\n",
    "    - May have high-risk violations\n",
    "\n",
    "- 86-90 Adequate \t\n",
    "    - Several violations observed\n",
    "    - May have high-risk violations\n",
    "\n",
    "- 71-85 Needs Improvement \t\n",
    "    - Multiple violations observed\n",
    "    - Typically, several high-risk violations\n",
    "\n",
    "- Less than or equal to 70 \tPoor \t\n",
    "    - Multiple violations observed\n",
    "    - Typically, several high-risk violations\n",
    "\n"
   ]
  },
  {
   "cell_type": "code",
   "execution_count": 35,
   "metadata": {},
   "outputs": [
    {
     "data": {
      "image/png": "[encoded data removed]",
      "text/plain": [
       "<Figure size 432x288 with 1 Axes>"
      ]
     },
     "metadata": {
      "needs_background": "light"
     },
     "output_type": "display_data"
    }
   ],
   "source": [
    "df['score'].dropna().hist()\n",
    "plt.yscale('log')"
   ]
  },
  {
   "cell_type": "markdown",
   "metadata": {},
   "source": [
    "This is a bit odd, it seems less than 1% of our restaurants are 'Good'. Definitely worth asking whoever made the dataset. **My interpretation is that the higher the score, the greater the number of violations**. This seems supported by plotting scores of closed/not-closed:"
   ]
  },
  {
   "cell_type": "code",
   "execution_count": 36,
   "metadata": {},
   "outputs": [
    {
     "data": {
      "text/plain": [
       "<matplotlib.legend.Legend at 0x7fbe87d9cac8>"
      ]
     },
     "execution_count": 36,
     "metadata": {},
     "output_type": "execute_result"
    },
    {
     "data": {
      "image/png": "[encoded data removed]",
      "text/plain": [
       "<Figure size 432x288 with 1 Axes>"
      ]
     },
     "metadata": {
      "needs_background": "light"
     },
     "output_type": "display_data"
    }
   ],
   "source": [
    "fig = plt.figure()\n",
    "ax = fig.add_subplot(111)\n",
    "df['score'].loc[df['closed']==1].hist(label='closed', bins=10, density=True, ax=ax);\n",
    "df['score'].loc[df['closed']==0].hist(label='not closed', bins=10, density=True, ax=ax);\n",
    "ax.set_xlabel('Score', fontsize=18)\n",
    "ax.set_title('Open and Closed Restaurants', fontsize=18)\n",
    "plt.legend(fontsize=14)\n"
   ]
  },
  {
   "cell_type": "markdown",
   "metadata": {},
   "source": [
    "## So what kind of predictive models would be interesting?"
   ]
  },
  {
   "cell_type": "markdown",
   "metadata": {},
   "source": [
    "Maybe we could help users gauge how clean restaurants of that type in that area are. But because we have so few features, a simply groupby would show this:"
   ]
  },
  {
   "cell_type": "code",
   "execution_count": 37,
   "metadata": {},
   "outputs": [
    {
     "name": "stdout",
     "output_type": "stream",
     "text": [
      "<class 'pandas.core.frame.DataFrame'>\n",
      "Int64Index: 333265 entries, 0 to 66652\n",
      "Data columns (total 23 columns):\n",
      "camis                    333265 non-null int64\n",
      "dba                      332974 non-null object\n",
      "boro                     333265 non-null object\n",
      "building                 333176 non-null object\n",
      "street                   333257 non-null object\n",
      "zipcode                  333257 non-null float64\n",
      "phone                    333260 non-null object\n",
      "cuisine_description      333265 non-null object\n",
      "inspection_date          333265 non-null object\n",
      "action                   332315 non-null object\n",
      "violation_code           327801 non-null object\n",
      "violation_description    327397 non-null object\n",
      "critical_flag            333265 non-null object\n",
      "score                    313817 non-null float64\n",
      "grade                    162863 non-null object\n",
      "grade_date               160700 non-null object\n",
      "record_date              333265 non-null object\n",
      "inspection_type          332315 non-null object\n",
      "closed                   333265 non-null uint8\n",
      "reclosed                 333265 non-null uint8\n",
      "reopened                 333265 non-null uint8\n",
      "noviolations             333265 non-null uint8\n",
      "citation                 333265 non-null uint8\n",
      "dtypes: float64(2), int64(1), object(15), uint8(5)\n",
      "memory usage: 49.9+ MB\n"
     ]
    }
   ],
   "source": [
    "df.info()"
   ]
  },
  {
   "cell_type": "code",
   "execution_count": 38,
   "metadata": {},
   "outputs": [
    {
     "data": {
      "text/plain": [
       "Text(0.5, 1.0, 'Clean Restaurants')"
      ]
     },
     "execution_count": 38,
     "metadata": {},
     "output_type": "execute_result"
    },
    {
     "data": {
      "image/png": "[encoded data removed]",
      "text/plain": [
       "<Figure size 432x288 with 1 Axes>"
      ]
     },
     "metadata": {
      "needs_background": "light"
     },
     "output_type": "display_data"
    }
   ],
   "source": [
    "fig, ax = plt.subplots()\n",
    "ax = df.groupby('cuisine_description')['score'].mean().sort_values()[:20].plot(kind='barh')\n",
    "ax.set_title('Clean Restaurants')"
   ]
  },
  {
   "cell_type": "code",
   "execution_count": 39,
   "metadata": {},
   "outputs": [
    {
     "data": {
      "text/plain": [
       "Text(0.5, 1.0, 'Restaurants with more violations')"
      ]
     },
     "execution_count": 39,
     "metadata": {},
     "output_type": "execute_result"
    },
    {
     "data": {
      "image/png": "[encoded data removed]",
      "text/plain": [
       "<Figure size 432x288 with 1 Axes>"
      ]
     },
     "metadata": {
      "needs_background": "light"
     },
     "output_type": "display_data"
    }
   ],
   "source": [
    "fig, ax = plt.subplots()\n",
    "ax = df.groupby('cuisine_description')['score'].mean().sort_values()[-20:].plot(kind='barh')\n",
    "ax.set_title('Restaurants with more violations')"
   ]
  },
  {
   "cell_type": "code",
   "execution_count": 40,
   "metadata": {},
   "outputs": [
    {
     "data": {
      "text/html": [
       "<div>\n",
       "<style scoped>\n",
       "    .dataframe tbody tr th:only-of-type {\n",
       "        vertical-align: middle;\n",
       "    }\n",
       "\n",
       "    .dataframe tbody tr th {\n",
       "        vertical-align: top;\n",
       "    }\n",
       "\n",
       "    .dataframe thead th {\n",
       "        text-align: right;\n",
       "    }\n",
       "</style>\n",
       "<table border=\"1\" class=\"dataframe\">\n",
       "  <thead>\n",
       "    <tr style=\"text-align: right;\">\n",
       "      <th></th>\n",
       "      <th>camis</th>\n",
       "      <th>dba</th>\n",
       "      <th>boro</th>\n",
       "      <th>building</th>\n",
       "      <th>street</th>\n",
       "      <th>zipcode</th>\n",
       "      <th>phone</th>\n",
       "      <th>cuisine_description</th>\n",
       "      <th>inspection_date</th>\n",
       "      <th>action</th>\n",
       "      <th>...</th>\n",
       "      <th>Soups &amp; Sandwiches</th>\n",
       "      <th>Southwestern</th>\n",
       "      <th>Spanish</th>\n",
       "      <th>Steak</th>\n",
       "      <th>Tapas</th>\n",
       "      <th>Tex-Mex</th>\n",
       "      <th>Thai</th>\n",
       "      <th>Turkish</th>\n",
       "      <th>Vegetarian</th>\n",
       "      <th>Vietnamese/Cambodian/Malaysia</th>\n",
       "    </tr>\n",
       "  </thead>\n",
       "  <tbody>\n",
       "    <tr>\n",
       "      <th>0</th>\n",
       "      <td>40511702</td>\n",
       "      <td>NOTARO RESTAURANT</td>\n",
       "      <td>MANHATTAN</td>\n",
       "      <td>635</td>\n",
       "      <td>SECOND AVENUE</td>\n",
       "      <td>10016.0</td>\n",
       "      <td>2126863400</td>\n",
       "      <td>Italian</td>\n",
       "      <td>06/15/2015</td>\n",
       "      <td>Violations were cited in the following area(s).</td>\n",
       "      <td>...</td>\n",
       "      <td>0</td>\n",
       "      <td>0</td>\n",
       "      <td>0</td>\n",
       "      <td>0</td>\n",
       "      <td>0</td>\n",
       "      <td>0</td>\n",
       "      <td>0</td>\n",
       "      <td>0</td>\n",
       "      <td>0</td>\n",
       "      <td>0</td>\n",
       "    </tr>\n",
       "    <tr>\n",
       "      <th>1</th>\n",
       "      <td>40511702</td>\n",
       "      <td>NOTARO RESTAURANT</td>\n",
       "      <td>MANHATTAN</td>\n",
       "      <td>635</td>\n",
       "      <td>SECOND AVENUE</td>\n",
       "      <td>10016.0</td>\n",
       "      <td>2126863400</td>\n",
       "      <td>Italian</td>\n",
       "      <td>11/25/2014</td>\n",
       "      <td>Violations were cited in the following area(s).</td>\n",
       "      <td>...</td>\n",
       "      <td>0</td>\n",
       "      <td>0</td>\n",
       "      <td>0</td>\n",
       "      <td>0</td>\n",
       "      <td>0</td>\n",
       "      <td>0</td>\n",
       "      <td>0</td>\n",
       "      <td>0</td>\n",
       "      <td>0</td>\n",
       "      <td>0</td>\n",
       "    </tr>\n",
       "    <tr>\n",
       "      <th>2</th>\n",
       "      <td>50046354</td>\n",
       "      <td>VITE BAR</td>\n",
       "      <td>QUEENS</td>\n",
       "      <td>2507</td>\n",
       "      <td>BROADWAY</td>\n",
       "      <td>11106.0</td>\n",
       "      <td>3478134702</td>\n",
       "      <td>Italian</td>\n",
       "      <td>10/03/2016</td>\n",
       "      <td>Violations were cited in the following area(s).</td>\n",
       "      <td>...</td>\n",
       "      <td>0</td>\n",
       "      <td>0</td>\n",
       "      <td>0</td>\n",
       "      <td>0</td>\n",
       "      <td>0</td>\n",
       "      <td>0</td>\n",
       "      <td>0</td>\n",
       "      <td>0</td>\n",
       "      <td>0</td>\n",
       "      <td>0</td>\n",
       "    </tr>\n",
       "    <tr>\n",
       "      <th>3</th>\n",
       "      <td>50061389</td>\n",
       "      <td>TACK'S CHINESE TAKE OUT</td>\n",
       "      <td>STATEN ISLAND</td>\n",
       "      <td>11C</td>\n",
       "      <td>HOLDEN BLVD</td>\n",
       "      <td>10314.0</td>\n",
       "      <td>7189839854</td>\n",
       "      <td>Chinese</td>\n",
       "      <td>05/17/2017</td>\n",
       "      <td>Violations were cited in the following area(s).</td>\n",
       "      <td>...</td>\n",
       "      <td>0</td>\n",
       "      <td>0</td>\n",
       "      <td>0</td>\n",
       "      <td>0</td>\n",
       "      <td>0</td>\n",
       "      <td>0</td>\n",
       "      <td>0</td>\n",
       "      <td>0</td>\n",
       "      <td>0</td>\n",
       "      <td>0</td>\n",
       "    </tr>\n",
       "    <tr>\n",
       "      <th>4</th>\n",
       "      <td>41516263</td>\n",
       "      <td>NO QUARTER</td>\n",
       "      <td>BROOKLYN</td>\n",
       "      <td>8015</td>\n",
       "      <td>5 AVENUE</td>\n",
       "      <td>11209.0</td>\n",
       "      <td>7187019180</td>\n",
       "      <td>American</td>\n",
       "      <td>03/30/2017</td>\n",
       "      <td>Violations were cited in the following area(s).</td>\n",
       "      <td>...</td>\n",
       "      <td>0</td>\n",
       "      <td>0</td>\n",
       "      <td>0</td>\n",
       "      <td>0</td>\n",
       "      <td>0</td>\n",
       "      <td>0</td>\n",
       "      <td>0</td>\n",
       "      <td>0</td>\n",
       "      <td>0</td>\n",
       "      <td>0</td>\n",
       "    </tr>\n",
       "  </tbody>\n",
       "</table>\n",
       "<p>5 rows × 107 columns</p>\n",
       "</div>"
      ],
      "text/plain": [
       "      camis                      dba           boro building         street  \\\n",
       "0  40511702        NOTARO RESTAURANT      MANHATTAN      635  SECOND AVENUE   \n",
       "1  40511702        NOTARO RESTAURANT      MANHATTAN      635  SECOND AVENUE   \n",
       "2  50046354                 VITE BAR         QUEENS     2507       BROADWAY   \n",
       "3  50061389  TACK'S CHINESE TAKE OUT  STATEN ISLAND      11C    HOLDEN BLVD   \n",
       "4  41516263               NO QUARTER       BROOKLYN     8015       5 AVENUE   \n",
       "\n",
       "   zipcode       phone cuisine_description inspection_date  \\\n",
       "0  10016.0  2126863400             Italian      06/15/2015   \n",
       "1  10016.0  2126863400             Italian      11/25/2014   \n",
       "2  11106.0  3478134702             Italian      10/03/2016   \n",
       "3  10314.0  7189839854             Chinese      05/17/2017   \n",
       "4  11209.0  7187019180            American      03/30/2017   \n",
       "\n",
       "                                            action  \\\n",
       "0  Violations were cited in the following area(s).   \n",
       "1  Violations were cited in the following area(s).   \n",
       "2  Violations were cited in the following area(s).   \n",
       "3  Violations were cited in the following area(s).   \n",
       "4  Violations were cited in the following area(s).   \n",
       "\n",
       "               ...               Soups & Sandwiches Southwestern Spanish  \\\n",
       "0              ...                                0            0       0   \n",
       "1              ...                                0            0       0   \n",
       "2              ...                                0            0       0   \n",
       "3              ...                                0            0       0   \n",
       "4              ...                                0            0       0   \n",
       "\n",
       "   Steak Tapas Tex-Mex Thai Turkish  Vegetarian  Vietnamese/Cambodian/Malaysia  \n",
       "0      0     0       0    0       0           0                              0  \n",
       "1      0     0       0    0       0           0                              0  \n",
       "2      0     0       0    0       0           0                              0  \n",
       "3      0     0       0    0       0           0                              0  \n",
       "4      0     0       0    0       0           0                              0  \n",
       "\n",
       "[5 rows x 107 columns]"
      ]
     },
     "execution_count": 40,
     "metadata": {},
     "output_type": "execute_result"
    }
   ],
   "source": [
    "temp = pd.get_dummies(df['cuisine_description'])\n",
    "df = pd.concat([df,temp], axis=1)\n",
    "df.head()"
   ]
  },
  {
   "cell_type": "markdown",
   "metadata": {},
   "source": [
    "### Make zipcode categorical\n",
    "\n",
    "In a better situation we'd use google api to get lat,lon based on street and building number"
   ]
  },
  {
   "cell_type": "code",
   "execution_count": 41,
   "metadata": {},
   "outputs": [],
   "source": [
    "df.loc[df['zipcode'].notna(), 'zipcode'] = df.loc[df['zipcode'].notna(), 'zipcode'].astype(str)"
   ]
  },
  {
   "cell_type": "code",
   "execution_count": 42,
   "metadata": {},
   "outputs": [
    {
     "data": {
      "text/plain": [
       "Index(['camis', 'dba', 'boro', 'building', 'street', 'zipcode', 'phone',\n",
       "       'cuisine_description', 'inspection_date', 'action', 'violation_code',\n",
       "       'violation_description', 'critical_flag', 'score', 'grade',\n",
       "       'grade_date', 'record_date', 'inspection_type', 'closed', 'reclosed',\n",
       "       'reopened', 'noviolations', 'citation', 'Afghan', 'African'],\n",
       "      dtype='object')"
      ]
     },
     "execution_count": 42,
     "metadata": {},
     "output_type": "execute_result"
    }
   ],
   "source": [
    "df.columns[:25]"
   ]
  },
  {
   "cell_type": "code",
   "execution_count": 43,
   "metadata": {},
   "outputs": [],
   "source": [
    "df = df.drop(columns=['camis', 'dba', 'phone', 'building', 'street',\n",
    "                      'violation_description', 'inspection_date', 'grade_date', 'record_date'])"
   ]
  },
  {
   "cell_type": "code",
   "execution_count": 44,
   "metadata": {},
   "outputs": [
    {
     "data": {
      "text/plain": [
       "232"
      ]
     },
     "execution_count": 44,
     "metadata": {},
     "output_type": "execute_result"
    }
   ],
   "source": [
    "df['zipcode'].nunique()"
   ]
  },
  {
   "cell_type": "code",
   "execution_count": 45,
   "metadata": {},
   "outputs": [],
   "source": [
    "def do_ohe(X, catvar):\n",
    "    temp = pd.get_dummies(X[catvar])\n",
    "    X = pd.concat([X,temp], axis=1)\n",
    "    X = X.drop(columns=[catvar])\n",
    "    return X"
   ]
  },
  {
   "cell_type": "code",
   "execution_count": 46,
   "metadata": {},
   "outputs": [],
   "source": [
    "df_categorical = df.select_dtypes(include='object')\n",
    "for c in df_categorical.columns:\n",
    "    print('At column {}'.format(c))\n",
    "    if df[c].dtype == 'object':\n",
    "        print('Doing ohe for column {}'.format(c))\n",
    "        df = do_ohe(df, c)"
   ]
  },
  {
   "cell_type": "code",
   "execution_count": 48,
   "metadata": {},
   "outputs": [
    {
     "name": "stdout",
     "output_type": "stream",
     "text": [
      "<class 'pandas.core.frame.DataFrame'>\n",
      "Int64Index: 333265 entries, 0 to 66652\n",
      "Columns: 181 entries, boro to Vietnamese/Cambodian/Malaysia\n",
      "dtypes: float64(1), object(7), uint8(173)\n",
      "memory usage: 77.9+ MB\n"
     ]
    }
   ],
   "source": [
    "df.info()"
   ]
  },
  {
   "cell_type": "markdown",
   "metadata": {},
   "source": [
    "## Regression based on zipcode and cuisine"
   ]
  },
  {
   "cell_type": "code",
   "execution_count": 49,
   "metadata": {},
   "outputs": [],
   "source": [
    "from sklearn import linear_model\n",
    "from sklearn.ensemble import RandomForestRegressor\n",
    "from sklearn.model_selection import train_test_split\n",
    "from sklearn.metrics import r2_score, mean_absolute_error\n",
    "from sklearn.preprocessing import StandardScaler"
   ]
  },
  {
   "cell_type": "code",
   "execution_count": 73,
   "metadata": {},
   "outputs": [],
   "source": [
    "df_clean = df.dropna()"
   ]
  },
  {
   "cell_type": "code",
   "execution_count": 74,
   "metadata": {},
   "outputs": [
    {
     "data": {
      "text/plain": [
       "(162072, 181)"
      ]
     },
     "execution_count": 74,
     "metadata": {},
     "output_type": "execute_result"
    }
   ],
   "source": [
    "df_clean.shape"
   ]
  },
  {
   "cell_type": "code",
   "execution_count": 75,
   "metadata": {},
   "outputs": [],
   "source": [
    "df_clean = df_clean.sample(50000).dropna()"
   ]
  },
  {
   "cell_type": "code",
   "execution_count": 76,
   "metadata": {},
   "outputs": [],
   "source": [
    "# An approximate 70/15/15 split\n",
    "X_train, X_test, y_train, y_test = \\\n",
    "train_test_split(df_clean, df_clean['score'], test_size=0.15)"
   ]
  },
  {
   "cell_type": "code",
   "execution_count": 77,
   "metadata": {},
   "outputs": [],
   "source": [
    "#X_train, X_val, y_train, y_val \\\n",
    "#    = train_test_split(X_train, y_train, test_size=0.176)"
   ]
  },
  {
   "cell_type": "code",
   "execution_count": 78,
   "metadata": {},
   "outputs": [
    {
     "data": {
      "text/plain": [
       "(42500, 181)"
      ]
     },
     "execution_count": 78,
     "metadata": {},
     "output_type": "execute_result"
    }
   ],
   "source": [
    "X_train.shape"
   ]
  },
  {
   "cell_type": "code",
   "execution_count": 79,
   "metadata": {},
   "outputs": [
    {
     "data": {
      "text/plain": [
       "Index(['boro', 'zipcode', 'action', 'violation_code', 'critical_flag', 'score',\n",
       "       'grade', 'inspection_type', 'closed', 'reclosed',\n",
       "       ...\n",
       "       'Soups & Sandwiches', 'Southwestern', 'Spanish', 'Steak', 'Tapas',\n",
       "       'Tex-Mex', 'Thai', 'Turkish', 'Vegetarian',\n",
       "       'Vietnamese/Cambodian/Malaysia'],\n",
       "      dtype='object', length=181)"
      ]
     },
     "execution_count": 79,
     "metadata": {},
     "output_type": "execute_result"
    }
   ],
   "source": [
    "X_train.columns"
   ]
  },
  {
   "cell_type": "code",
   "execution_count": 80,
   "metadata": {},
   "outputs": [
    {
     "name": "stdout",
     "output_type": "stream",
     "text": [
      "0.85\n",
      "0.15\n"
     ]
    }
   ],
   "source": [
    "print(X_train.shape[0]/df_clean.shape[0])\n",
    "#print(X_val.shape[0]/df_clean.shape[0])\n",
    "print(X_test.shape[0]/df_clean.shape[0])"
   ]
  },
  {
   "cell_type": "markdown",
   "metadata": {},
   "source": [
    "### Using GridSearchCV"
   ]
  },
  {
   "cell_type": "code",
   "execution_count": 81,
   "metadata": {},
   "outputs": [],
   "source": [
    "from sklearn.model_selection import GridSearchCV"
   ]
  },
  {
   "cell_type": "code",
   "execution_count": 82,
   "metadata": {},
   "outputs": [],
   "source": [
    "parameters = {'max_depth':[5], 'n_estimators':[200]}\n",
    "reg = RandomForestRegressor(parameters)"
   ]
  },
  {
   "cell_type": "code",
   "execution_count": 83,
   "metadata": {},
   "outputs": [],
   "source": [
    "#from sklearn.linear_model import LogisticRegression, LinearRegression\n",
    "#from sklearn.neighbors import KNeighborsRegressor\n",
    "#parameters = {'C': [0.01, 0.1, 1.], 'class_weight': ['balanced', None]}\n",
    "#parameters = {'n_neighbors': [2,5,10,20]}\n",
    "#reg = KNeighborsRegressor()"
   ]
  },
  {
   "cell_type": "code",
   "execution_count": 84,
   "metadata": {},
   "outputs": [
    {
     "name": "stderr",
     "output_type": "stream",
     "text": [
      "/home/pedro/anaconda3/envs/insight/lib/python3.6/site-packages/pandas/core/indexing.py:1472: FutureWarning: \n",
      "Passing list-likes to .loc or [] with any missing label will raise\n",
      "KeyError in the future, you can use .reindex() as an alternative.\n",
      "\n",
      "See the documentation here:\n",
      "https://pandas.pydata.org/pandas-docs/stable/indexing.html#deprecate-loc-reindex-listlike\n",
      "  return self._getitem_tuple(key)\n"
     ]
    },
    {
     "ename": "ValueError",
     "evalue": "Input contains NaN, infinity or a value too large for dtype('float32').",
     "output_type": "error",
     "traceback": [
      "\u001b[0;31m---------------------------------------------------------------------------\u001b[0m",
      "\u001b[0;31mValueError\u001b[0m                                Traceback (most recent call last)",
      "\u001b[0;32m<ipython-input-84-6563cf278262>\u001b[0m in \u001b[0;36m<module>\u001b[0;34m()\u001b[0m\n\u001b[1;32m      1\u001b[0m \u001b[0mclf\u001b[0m \u001b[0;34m=\u001b[0m \u001b[0mGridSearchCV\u001b[0m\u001b[0;34m(\u001b[0m\u001b[0mreg\u001b[0m\u001b[0;34m,\u001b[0m \u001b[0mparameters\u001b[0m\u001b[0;34m,\u001b[0m \u001b[0mcv\u001b[0m\u001b[0;34m=\u001b[0m\u001b[0;36m5\u001b[0m\u001b[0;34m)\u001b[0m\u001b[0;34m\u001b[0m\u001b[0m\n\u001b[0;32m----> 2\u001b[0;31m \u001b[0mclf\u001b[0m\u001b[0;34m.\u001b[0m\u001b[0mfit\u001b[0m\u001b[0;34m(\u001b[0m\u001b[0mX_train\u001b[0m\u001b[0;34m.\u001b[0m\u001b[0mloc\u001b[0m\u001b[0;34m[\u001b[0m\u001b[0;34m:\u001b[0m\u001b[0;34m,\u001b[0m \u001b[0;34m[\u001b[0m\u001b[0;34m'zipcode'\u001b[0m\u001b[0;34m,\u001b[0m \u001b[0;34m'cuisine_description'\u001b[0m\u001b[0;34m]\u001b[0m\u001b[0;34m]\u001b[0m\u001b[0;34m,\u001b[0m \u001b[0my_train\u001b[0m\u001b[0;34m)\u001b[0m\u001b[0;34m\u001b[0m\u001b[0m\n\u001b[0m",
      "\u001b[0;32m~/anaconda3/envs/insight/lib/python3.6/site-packages/sklearn/model_selection/_search.py\u001b[0m in \u001b[0;36mfit\u001b[0;34m(self, X, y, groups, **fit_params)\u001b[0m\n\u001b[1;32m    637\u001b[0m                                   error_score=self.error_score)\n\u001b[1;32m    638\u001b[0m           for parameters, (train, test) in product(candidate_params,\n\u001b[0;32m--> 639\u001b[0;31m                                                    cv.split(X, y, groups)))\n\u001b[0m\u001b[1;32m    640\u001b[0m \u001b[0;34m\u001b[0m\u001b[0m\n\u001b[1;32m    641\u001b[0m         \u001b[0;31m# if one choose to see train score, \"out\" will contain train score info\u001b[0m\u001b[0;34m\u001b[0m\u001b[0;34m\u001b[0m\u001b[0m\n",
      "\u001b[0;32m~/anaconda3/envs/insight/lib/python3.6/site-packages/sklearn/externals/joblib/parallel.py\u001b[0m in \u001b[0;36m__call__\u001b[0;34m(self, iterable)\u001b[0m\n\u001b[1;32m    777\u001b[0m             \u001b[0;31m# was dispatched. In particular this covers the edge\u001b[0m\u001b[0;34m\u001b[0m\u001b[0;34m\u001b[0m\u001b[0m\n\u001b[1;32m    778\u001b[0m             \u001b[0;31m# case of Parallel used with an exhausted iterator.\u001b[0m\u001b[0;34m\u001b[0m\u001b[0;34m\u001b[0m\u001b[0m\n\u001b[0;32m--> 779\u001b[0;31m             \u001b[0;32mwhile\u001b[0m \u001b[0mself\u001b[0m\u001b[0;34m.\u001b[0m\u001b[0mdispatch_one_batch\u001b[0m\u001b[0;34m(\u001b[0m\u001b[0miterator\u001b[0m\u001b[0;34m)\u001b[0m\u001b[0;34m:\u001b[0m\u001b[0;34m\u001b[0m\u001b[0m\n\u001b[0m\u001b[1;32m    780\u001b[0m                 \u001b[0mself\u001b[0m\u001b[0;34m.\u001b[0m\u001b[0m_iterating\u001b[0m \u001b[0;34m=\u001b[0m \u001b[0;32mTrue\u001b[0m\u001b[0;34m\u001b[0m\u001b[0m\n\u001b[1;32m    781\u001b[0m             \u001b[0;32melse\u001b[0m\u001b[0;34m:\u001b[0m\u001b[0;34m\u001b[0m\u001b[0m\n",
      "\u001b[0;32m~/anaconda3/envs/insight/lib/python3.6/site-packages/sklearn/externals/joblib/parallel.py\u001b[0m in \u001b[0;36mdispatch_one_batch\u001b[0;34m(self, iterator)\u001b[0m\n\u001b[1;32m    623\u001b[0m                 \u001b[0;32mreturn\u001b[0m \u001b[0;32mFalse\u001b[0m\u001b[0;34m\u001b[0m\u001b[0m\n\u001b[1;32m    624\u001b[0m             \u001b[0;32melse\u001b[0m\u001b[0;34m:\u001b[0m\u001b[0;34m\u001b[0m\u001b[0m\n\u001b[0;32m--> 625\u001b[0;31m                 \u001b[0mself\u001b[0m\u001b[0;34m.\u001b[0m\u001b[0m_dispatch\u001b[0m\u001b[0;34m(\u001b[0m\u001b[0mtasks\u001b[0m\u001b[0;34m)\u001b[0m\u001b[0;34m\u001b[0m\u001b[0m\n\u001b[0m\u001b[1;32m    626\u001b[0m                 \u001b[0;32mreturn\u001b[0m \u001b[0;32mTrue\u001b[0m\u001b[0;34m\u001b[0m\u001b[0m\n\u001b[1;32m    627\u001b[0m \u001b[0;34m\u001b[0m\u001b[0m\n",
      "\u001b[0;32m~/anaconda3/envs/insight/lib/python3.6/site-packages/sklearn/externals/joblib/parallel.py\u001b[0m in \u001b[0;36m_dispatch\u001b[0;34m(self, batch)\u001b[0m\n\u001b[1;32m    586\u001b[0m         \u001b[0mdispatch_timestamp\u001b[0m \u001b[0;34m=\u001b[0m \u001b[0mtime\u001b[0m\u001b[0;34m.\u001b[0m\u001b[0mtime\u001b[0m\u001b[0;34m(\u001b[0m\u001b[0;34m)\u001b[0m\u001b[0;34m\u001b[0m\u001b[0m\n\u001b[1;32m    587\u001b[0m         \u001b[0mcb\u001b[0m \u001b[0;34m=\u001b[0m \u001b[0mBatchCompletionCallBack\u001b[0m\u001b[0;34m(\u001b[0m\u001b[0mdispatch_timestamp\u001b[0m\u001b[0;34m,\u001b[0m \u001b[0mlen\u001b[0m\u001b[0;34m(\u001b[0m\u001b[0mbatch\u001b[0m\u001b[0;34m)\u001b[0m\u001b[0;34m,\u001b[0m \u001b[0mself\u001b[0m\u001b[0;34m)\u001b[0m\u001b[0;34m\u001b[0m\u001b[0m\n\u001b[0;32m--> 588\u001b[0;31m         \u001b[0mjob\u001b[0m \u001b[0;34m=\u001b[0m \u001b[0mself\u001b[0m\u001b[0;34m.\u001b[0m\u001b[0m_backend\u001b[0m\u001b[0;34m.\u001b[0m\u001b[0mapply_async\u001b[0m\u001b[0;34m(\u001b[0m\u001b[0mbatch\u001b[0m\u001b[0;34m,\u001b[0m \u001b[0mcallback\u001b[0m\u001b[0;34m=\u001b[0m\u001b[0mcb\u001b[0m\u001b[0;34m)\u001b[0m\u001b[0;34m\u001b[0m\u001b[0m\n\u001b[0m\u001b[1;32m    589\u001b[0m         \u001b[0mself\u001b[0m\u001b[0;34m.\u001b[0m\u001b[0m_jobs\u001b[0m\u001b[0;34m.\u001b[0m\u001b[0mappend\u001b[0m\u001b[0;34m(\u001b[0m\u001b[0mjob\u001b[0m\u001b[0;34m)\u001b[0m\u001b[0;34m\u001b[0m\u001b[0m\n\u001b[1;32m    590\u001b[0m \u001b[0;34m\u001b[0m\u001b[0m\n",
      "\u001b[0;32m~/anaconda3/envs/insight/lib/python3.6/site-packages/sklearn/externals/joblib/_parallel_backends.py\u001b[0m in \u001b[0;36mapply_async\u001b[0;34m(self, func, callback)\u001b[0m\n\u001b[1;32m    109\u001b[0m     \u001b[0;32mdef\u001b[0m \u001b[0mapply_async\u001b[0m\u001b[0;34m(\u001b[0m\u001b[0mself\u001b[0m\u001b[0;34m,\u001b[0m \u001b[0mfunc\u001b[0m\u001b[0;34m,\u001b[0m \u001b[0mcallback\u001b[0m\u001b[0;34m=\u001b[0m\u001b[0;32mNone\u001b[0m\u001b[0;34m)\u001b[0m\u001b[0;34m:\u001b[0m\u001b[0;34m\u001b[0m\u001b[0m\n\u001b[1;32m    110\u001b[0m         \u001b[0;34m\"\"\"Schedule a func to be run\"\"\"\u001b[0m\u001b[0;34m\u001b[0m\u001b[0m\n\u001b[0;32m--> 111\u001b[0;31m         \u001b[0mresult\u001b[0m \u001b[0;34m=\u001b[0m \u001b[0mImmediateResult\u001b[0m\u001b[0;34m(\u001b[0m\u001b[0mfunc\u001b[0m\u001b[0;34m)\u001b[0m\u001b[0;34m\u001b[0m\u001b[0m\n\u001b[0m\u001b[1;32m    112\u001b[0m         \u001b[0;32mif\u001b[0m \u001b[0mcallback\u001b[0m\u001b[0;34m:\u001b[0m\u001b[0;34m\u001b[0m\u001b[0m\n\u001b[1;32m    113\u001b[0m             \u001b[0mcallback\u001b[0m\u001b[0;34m(\u001b[0m\u001b[0mresult\u001b[0m\u001b[0;34m)\u001b[0m\u001b[0;34m\u001b[0m\u001b[0m\n",
      "\u001b[0;32m~/anaconda3/envs/insight/lib/python3.6/site-packages/sklearn/externals/joblib/_parallel_backends.py\u001b[0m in \u001b[0;36m__init__\u001b[0;34m(self, batch)\u001b[0m\n\u001b[1;32m    330\u001b[0m         \u001b[0;31m# Don't delay the application, to avoid keeping the input\u001b[0m\u001b[0;34m\u001b[0m\u001b[0;34m\u001b[0m\u001b[0m\n\u001b[1;32m    331\u001b[0m         \u001b[0;31m# arguments in memory\u001b[0m\u001b[0;34m\u001b[0m\u001b[0;34m\u001b[0m\u001b[0m\n\u001b[0;32m--> 332\u001b[0;31m         \u001b[0mself\u001b[0m\u001b[0;34m.\u001b[0m\u001b[0mresults\u001b[0m \u001b[0;34m=\u001b[0m \u001b[0mbatch\u001b[0m\u001b[0;34m(\u001b[0m\u001b[0;34m)\u001b[0m\u001b[0;34m\u001b[0m\u001b[0m\n\u001b[0m\u001b[1;32m    333\u001b[0m \u001b[0;34m\u001b[0m\u001b[0m\n\u001b[1;32m    334\u001b[0m     \u001b[0;32mdef\u001b[0m \u001b[0mget\u001b[0m\u001b[0;34m(\u001b[0m\u001b[0mself\u001b[0m\u001b[0;34m)\u001b[0m\u001b[0;34m:\u001b[0m\u001b[0;34m\u001b[0m\u001b[0m\n",
      "\u001b[0;32m~/anaconda3/envs/insight/lib/python3.6/site-packages/sklearn/externals/joblib/parallel.py\u001b[0m in \u001b[0;36m__call__\u001b[0;34m(self)\u001b[0m\n\u001b[1;32m    129\u001b[0m \u001b[0;34m\u001b[0m\u001b[0m\n\u001b[1;32m    130\u001b[0m     \u001b[0;32mdef\u001b[0m \u001b[0m__call__\u001b[0m\u001b[0;34m(\u001b[0m\u001b[0mself\u001b[0m\u001b[0;34m)\u001b[0m\u001b[0;34m:\u001b[0m\u001b[0;34m\u001b[0m\u001b[0m\n\u001b[0;32m--> 131\u001b[0;31m         \u001b[0;32mreturn\u001b[0m \u001b[0;34m[\u001b[0m\u001b[0mfunc\u001b[0m\u001b[0;34m(\u001b[0m\u001b[0;34m*\u001b[0m\u001b[0margs\u001b[0m\u001b[0;34m,\u001b[0m \u001b[0;34m**\u001b[0m\u001b[0mkwargs\u001b[0m\u001b[0;34m)\u001b[0m \u001b[0;32mfor\u001b[0m \u001b[0mfunc\u001b[0m\u001b[0;34m,\u001b[0m \u001b[0margs\u001b[0m\u001b[0;34m,\u001b[0m \u001b[0mkwargs\u001b[0m \u001b[0;32min\u001b[0m \u001b[0mself\u001b[0m\u001b[0;34m.\u001b[0m\u001b[0mitems\u001b[0m\u001b[0;34m]\u001b[0m\u001b[0;34m\u001b[0m\u001b[0m\n\u001b[0m\u001b[1;32m    132\u001b[0m \u001b[0;34m\u001b[0m\u001b[0m\n\u001b[1;32m    133\u001b[0m     \u001b[0;32mdef\u001b[0m \u001b[0m__len__\u001b[0m\u001b[0;34m(\u001b[0m\u001b[0mself\u001b[0m\u001b[0;34m)\u001b[0m\u001b[0;34m:\u001b[0m\u001b[0;34m\u001b[0m\u001b[0m\n",
      "\u001b[0;32m~/anaconda3/envs/insight/lib/python3.6/site-packages/sklearn/externals/joblib/parallel.py\u001b[0m in \u001b[0;36m<listcomp>\u001b[0;34m(.0)\u001b[0m\n\u001b[1;32m    129\u001b[0m \u001b[0;34m\u001b[0m\u001b[0m\n\u001b[1;32m    130\u001b[0m     \u001b[0;32mdef\u001b[0m \u001b[0m__call__\u001b[0m\u001b[0;34m(\u001b[0m\u001b[0mself\u001b[0m\u001b[0;34m)\u001b[0m\u001b[0;34m:\u001b[0m\u001b[0;34m\u001b[0m\u001b[0m\n\u001b[0;32m--> 131\u001b[0;31m         \u001b[0;32mreturn\u001b[0m \u001b[0;34m[\u001b[0m\u001b[0mfunc\u001b[0m\u001b[0;34m(\u001b[0m\u001b[0;34m*\u001b[0m\u001b[0margs\u001b[0m\u001b[0;34m,\u001b[0m \u001b[0;34m**\u001b[0m\u001b[0mkwargs\u001b[0m\u001b[0;34m)\u001b[0m \u001b[0;32mfor\u001b[0m \u001b[0mfunc\u001b[0m\u001b[0;34m,\u001b[0m \u001b[0margs\u001b[0m\u001b[0;34m,\u001b[0m \u001b[0mkwargs\u001b[0m \u001b[0;32min\u001b[0m \u001b[0mself\u001b[0m\u001b[0;34m.\u001b[0m\u001b[0mitems\u001b[0m\u001b[0;34m]\u001b[0m\u001b[0;34m\u001b[0m\u001b[0m\n\u001b[0m\u001b[1;32m    132\u001b[0m \u001b[0;34m\u001b[0m\u001b[0m\n\u001b[1;32m    133\u001b[0m     \u001b[0;32mdef\u001b[0m \u001b[0m__len__\u001b[0m\u001b[0;34m(\u001b[0m\u001b[0mself\u001b[0m\u001b[0;34m)\u001b[0m\u001b[0;34m:\u001b[0m\u001b[0;34m\u001b[0m\u001b[0m\n",
      "\u001b[0;32m~/anaconda3/envs/insight/lib/python3.6/site-packages/sklearn/model_selection/_validation.py\u001b[0m in \u001b[0;36m_fit_and_score\u001b[0;34m(estimator, X, y, scorer, train, test, verbose, parameters, fit_params, return_train_score, return_parameters, return_n_test_samples, return_times, error_score)\u001b[0m\n\u001b[1;32m    456\u001b[0m             \u001b[0mestimator\u001b[0m\u001b[0;34m.\u001b[0m\u001b[0mfit\u001b[0m\u001b[0;34m(\u001b[0m\u001b[0mX_train\u001b[0m\u001b[0;34m,\u001b[0m \u001b[0;34m**\u001b[0m\u001b[0mfit_params\u001b[0m\u001b[0;34m)\u001b[0m\u001b[0;34m\u001b[0m\u001b[0m\n\u001b[1;32m    457\u001b[0m         \u001b[0;32melse\u001b[0m\u001b[0;34m:\u001b[0m\u001b[0;34m\u001b[0m\u001b[0m\n\u001b[0;32m--> 458\u001b[0;31m             \u001b[0mestimator\u001b[0m\u001b[0;34m.\u001b[0m\u001b[0mfit\u001b[0m\u001b[0;34m(\u001b[0m\u001b[0mX_train\u001b[0m\u001b[0;34m,\u001b[0m \u001b[0my_train\u001b[0m\u001b[0;34m,\u001b[0m \u001b[0;34m**\u001b[0m\u001b[0mfit_params\u001b[0m\u001b[0;34m)\u001b[0m\u001b[0;34m\u001b[0m\u001b[0m\n\u001b[0m\u001b[1;32m    459\u001b[0m \u001b[0;34m\u001b[0m\u001b[0m\n\u001b[1;32m    460\u001b[0m     \u001b[0;32mexcept\u001b[0m \u001b[0mException\u001b[0m \u001b[0;32mas\u001b[0m \u001b[0me\u001b[0m\u001b[0;34m:\u001b[0m\u001b[0;34m\u001b[0m\u001b[0m\n",
      "\u001b[0;32m~/anaconda3/envs/insight/lib/python3.6/site-packages/sklearn/ensemble/forest.py\u001b[0m in \u001b[0;36mfit\u001b[0;34m(self, X, y, sample_weight)\u001b[0m\n\u001b[1;32m    245\u001b[0m         \"\"\"\n\u001b[1;32m    246\u001b[0m         \u001b[0;31m# Validate or convert input data\u001b[0m\u001b[0;34m\u001b[0m\u001b[0;34m\u001b[0m\u001b[0m\n\u001b[0;32m--> 247\u001b[0;31m         \u001b[0mX\u001b[0m \u001b[0;34m=\u001b[0m \u001b[0mcheck_array\u001b[0m\u001b[0;34m(\u001b[0m\u001b[0mX\u001b[0m\u001b[0;34m,\u001b[0m \u001b[0maccept_sparse\u001b[0m\u001b[0;34m=\u001b[0m\u001b[0;34m\"csc\"\u001b[0m\u001b[0;34m,\u001b[0m \u001b[0mdtype\u001b[0m\u001b[0;34m=\u001b[0m\u001b[0mDTYPE\u001b[0m\u001b[0;34m)\u001b[0m\u001b[0;34m\u001b[0m\u001b[0m\n\u001b[0m\u001b[1;32m    248\u001b[0m         \u001b[0my\u001b[0m \u001b[0;34m=\u001b[0m \u001b[0mcheck_array\u001b[0m\u001b[0;34m(\u001b[0m\u001b[0my\u001b[0m\u001b[0;34m,\u001b[0m \u001b[0maccept_sparse\u001b[0m\u001b[0;34m=\u001b[0m\u001b[0;34m'csc'\u001b[0m\u001b[0;34m,\u001b[0m \u001b[0mensure_2d\u001b[0m\u001b[0;34m=\u001b[0m\u001b[0;32mFalse\u001b[0m\u001b[0;34m,\u001b[0m \u001b[0mdtype\u001b[0m\u001b[0;34m=\u001b[0m\u001b[0;32mNone\u001b[0m\u001b[0;34m)\u001b[0m\u001b[0;34m\u001b[0m\u001b[0m\n\u001b[1;32m    249\u001b[0m         \u001b[0;32mif\u001b[0m \u001b[0msample_weight\u001b[0m \u001b[0;32mis\u001b[0m \u001b[0;32mnot\u001b[0m \u001b[0;32mNone\u001b[0m\u001b[0;34m:\u001b[0m\u001b[0;34m\u001b[0m\u001b[0m\n",
      "\u001b[0;32m~/anaconda3/envs/insight/lib/python3.6/site-packages/sklearn/utils/validation.py\u001b[0m in \u001b[0;36mcheck_array\u001b[0;34m(array, accept_sparse, dtype, order, copy, force_all_finite, ensure_2d, allow_nd, ensure_min_samples, ensure_min_features, warn_on_dtype, estimator)\u001b[0m\n\u001b[1;32m    451\u001b[0m                              % (array.ndim, estimator_name))\n\u001b[1;32m    452\u001b[0m         \u001b[0;32mif\u001b[0m \u001b[0mforce_all_finite\u001b[0m\u001b[0;34m:\u001b[0m\u001b[0;34m\u001b[0m\u001b[0m\n\u001b[0;32m--> 453\u001b[0;31m             \u001b[0m_assert_all_finite\u001b[0m\u001b[0;34m(\u001b[0m\u001b[0marray\u001b[0m\u001b[0;34m)\u001b[0m\u001b[0;34m\u001b[0m\u001b[0m\n\u001b[0m\u001b[1;32m    454\u001b[0m \u001b[0;34m\u001b[0m\u001b[0m\n\u001b[1;32m    455\u001b[0m     \u001b[0mshape_repr\u001b[0m \u001b[0;34m=\u001b[0m \u001b[0m_shape_repr\u001b[0m\u001b[0;34m(\u001b[0m\u001b[0marray\u001b[0m\u001b[0;34m.\u001b[0m\u001b[0mshape\u001b[0m\u001b[0;34m)\u001b[0m\u001b[0;34m\u001b[0m\u001b[0m\n",
      "\u001b[0;32m~/anaconda3/envs/insight/lib/python3.6/site-packages/sklearn/utils/validation.py\u001b[0m in \u001b[0;36m_assert_all_finite\u001b[0;34m(X)\u001b[0m\n\u001b[1;32m     42\u001b[0m             and not np.isfinite(X).all()):\n\u001b[1;32m     43\u001b[0m         raise ValueError(\"Input contains NaN, infinity\"\n\u001b[0;32m---> 44\u001b[0;31m                          \" or a value too large for %r.\" % X.dtype)\n\u001b[0m\u001b[1;32m     45\u001b[0m \u001b[0;34m\u001b[0m\u001b[0m\n\u001b[1;32m     46\u001b[0m \u001b[0;34m\u001b[0m\u001b[0m\n",
      "\u001b[0;31mValueError\u001b[0m: Input contains NaN, infinity or a value too large for dtype('float32')."
     ]
    }
   ],
   "source": [
    "clf = GridSearchCV(reg, parameters, cv=5)\n",
    "clf.fit(X_train, y_train)"
   ]
  },
  {
   "cell_type": "code",
   "execution_count": null,
   "metadata": {},
   "outputs": [],
   "source": [
    "print(clf.best_estimator_)"
   ]
  },
  {
   "cell_type": "code",
   "execution_count": null,
   "metadata": {},
   "outputs": [],
   "source": [
    "print(clf.best_score_)"
   ]
  },
  {
   "cell_type": "code",
   "execution_count": null,
   "metadata": {},
   "outputs": [],
   "source": [
    "y_test_pred = clf.predict(X_test)"
   ]
  },
  {
   "cell_type": "code",
   "execution_count": null,
   "metadata": {},
   "outputs": [],
   "source": [
    "mean_absolute_error(y_test, y_test_pred)"
   ]
  },
  {
   "cell_type": "code",
   "execution_count": null,
   "metadata": {},
   "outputs": [],
   "source": [
    "r2_score(y_test, y_test_pred)"
   ]
  },
  {
   "cell_type": "code",
   "execution_count": null,
   "metadata": {},
   "outputs": [],
   "source": [
    "(y_test_pred-y_test).hist()"
   ]
  },
  {
   "cell_type": "code",
   "execution_count": null,
   "metadata": {},
   "outputs": [],
   "source": [
    "from sklearn.metrics import confusion_matrix"
   ]
  },
  {
   "cell_type": "code",
   "execution_count": null,
   "metadata": {},
   "outputs": [],
   "source": [
    "y_test[:10]"
   ]
  },
  {
   "cell_type": "code",
   "execution_count": null,
   "metadata": {},
   "outputs": [],
   "source": [
    "y_test_pred[:10]"
   ]
  },
  {
   "cell_type": "code",
   "execution_count": null,
   "metadata": {},
   "outputs": [],
   "source": []
  },
  {
   "cell_type": "markdown",
   "metadata": {},
   "source": [
    "### Evaluating performance!"
   ]
  },
  {
   "cell_type": "code",
   "execution_count": null,
   "metadata": {},
   "outputs": [],
   "source": [
    "y_val_pred = reg.predict(X_val)"
   ]
  },
  {
   "cell_type": "code",
   "execution_count": null,
   "metadata": {},
   "outputs": [],
   "source": [
    "mean_absolute_error(y_val, y_val_pred)"
   ]
  },
  {
   "cell_type": "code",
   "execution_count": null,
   "metadata": {},
   "outputs": [],
   "source": [
    "r2_score(y_val, y_val_pred)"
   ]
  },
  {
   "cell_type": "code",
   "execution_count": null,
   "metadata": {},
   "outputs": [],
   "source": [
    "y_test_pred = reg.predict(X_test)"
   ]
  },
  {
   "cell_type": "code",
   "execution_count": null,
   "metadata": {},
   "outputs": [],
   "source": [
    "mean_absolute_error(y_test, y_test_pred)"
   ]
  },
  {
   "cell_type": "code",
   "execution_count": null,
   "metadata": {},
   "outputs": [],
   "source": [
    "r2_score(y_test, y_test_pred)"
   ]
  },
  {
   "cell_type": "code",
   "execution_count": null,
   "metadata": {},
   "outputs": [],
   "source": []
  },
  {
   "cell_type": "code",
   "execution_count": null,
   "metadata": {},
   "outputs": [],
   "source": []
  },
  {
   "cell_type": "code",
   "execution_count": null,
   "metadata": {},
   "outputs": [],
   "source": []
  }
 ],
 "metadata": {
  "kernelspec": {
   "display_name": "Python 3",
   "language": "python",
   "name": "python3"
  },
  "language_info": {
   "codemirror_mode": {
    "name": "ipython",
    "version": 3
   },
   "file_extension": ".py",
   "mimetype": "text/x-python",
   "name": "python",
   "nbconvert_exporter": "python",
   "pygments_lexer": "ipython3",
   "version": "3.6.6"
  }
 },
 "nbformat": 4,
 "nbformat_minor": 2
}
