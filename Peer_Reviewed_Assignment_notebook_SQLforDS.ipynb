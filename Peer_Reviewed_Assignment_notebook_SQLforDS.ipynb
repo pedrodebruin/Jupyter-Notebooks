{
 "cells": [
  {
   "cell_type": "markdown",
   "metadata": {},
   "source": [
    "<a href=\"https://www.bigdatauniversity.com\"><img src = \"https://ibm.box.com/shared/static/ugcqz6ohbvff804xp84y4kqnvvk3bq1g.png\" width = 300, align = \"center\"></a>\n",
    "\n",
    "<h1 align=center><font size = 5>Peer Reviewed Assignment: notebook</font></h1>"
   ]
  },
  {
   "cell_type": "markdown",
   "metadata": {},
   "source": [
    "# Introduction\n",
    "\n",
    "This notebook is part of the Peer Reviewed Assignment.\n",
    "1. Understand the dataset: Selected socioeconomic indicators in Chicago\n",
    "1. Connect to IBM DB2 Warehouse on Cloud\n",
    "1. Problems \n",
    "1. Close the Connection\n",
    "\n",
    "\n"
   ]
  },
  {
   "cell_type": "markdown",
   "metadata": {},
   "source": [
    "## Understand the datasets \n",
    "\n",
    "We will be using three datasets to complete the assignments in this notebook\n",
    "\n",
    "### Selected Socioeconomic indicators in Chicago\n",
    "\n",
    "The city of Chicago released a datset of socioeconomic data to the Chicago City Portal.\n",
    "This dataset contains a selection of six socioeconomic indicators of public health significance and a “hardship index,” by Chicago community area, for the years 2008 – 2012. The indicators used to calculate the \"Hardship index\" are:\n",
    "1. Percent of Housing Crowded\n",
    "1. Percent Households Below Poverty\n",
    "1. Percent Ages 16+ Unemployed\n",
    "1. Percent Aged 25+ without High School Diploma\n",
    "1. Percent Aged Under 16 or Over 64\n",
    "1. Per Capita Income\n",
    "\n",
    " Scores on the index can range from 1 to 100, with a higher index number representing a greater level of hardship. The scores are standardized according to the data for the 77 community areas, and therefore cannot be compared to scores generated for other\n",
    "jurisdictions. \n",
    "\n",
    "The observations in the dataset were obtained from the census tract-level estimates obtained from the link:\n",
    "https://data.cityofchicago.org/Health-Human-Services/Census-Data-Selected-socioeconomic-indicators-in-C/kn9c-c2s2\n",
    "\n",
    "Navigate to the Export tab(top left side of the site) and download the CSV file.\n",
    "\n",
    "The dataset has the following variables:\n",
    "\n",
    "Community Area Number: Used to uniquely identify each row of the dataset\n",
    "\n",
    "Community Area Name: Reffers to the region in the city of Chicago \n",
    "\n",
    "Percent of Housing Crowded: Percent occupied housing units with more than one person per room\n",
    "\n",
    "Percent Households Below Poverty: Percent of households living below federal poverty level\n",
    "\n",
    "Percent Ages 16+ Unemployed: Percent of persons over the age of 16 years that are unemployed\n",
    "\n",
    "Percent Aged 25+ without High School Diploma: Percent of persons over the age of 25 years without a high school education\n",
    "\n",
    "Percent Aged Under 16 or Over 64:Percent of population under 16 or over 64 years of age(ie. dependency)\n",
    "\n",
    "Per Capita Income: Community Area per capita income is estimated as the sum of tract-level aggragate incomes divided by the total population\n",
    "\n",
    "Hardship Index: Score that incorporates each of the six selected socioeconomic indicators\n",
    "\n",
    "### Chicago Public Schools\n",
    "\n",
    "This dataset shows all school level performance data used to create CPS School Report Cards for the 2011-2012 school year. This dataset is provided by the city of Chicago's Data Portal.\n",
    "\n",
    "The observations in the dataset were obtained from the census tract-level estimates obtained from the link:\n",
    "https://data.cityofchicago.org/Education/Chicago-Public-Schools-Progress-Report-Cards-2011-/9xs2-f89t\n",
    "You can take a look at the columns in the dataset from this link.\n",
    "\n",
    "Navigate to the Export tab(top left side of the site) and download the CSV file. \n",
    "\n",
    "### Chicago Crime Data \n",
    "\n",
    "This dataset reflects reported incidents of crime (with the exception of murders where data exists for each victim) that occurred in the City of Chicago from 2001 to present, minus the most recent seven days. This dataset is provided by the city of Chicago's Data Portal.\n",
    "\n",
    "The observations in the dataset were obtained from the census tract-level estimates obtained from the link:\n",
    "https://data.cityofchicago.org/Public-Safety/Crimes-2001-to-present/ijzp-q8t2\n",
    "You can take a look at the columns in the dataset from this link.\n",
    "\n",
    "Navigate to the Export tab(top left side of the site) and download the CSV file. \n",
    "\n",
    "\n",
    "\n"
   ]
  },
  {
   "cell_type": "markdown",
   "metadata": {},
   "source": [
    "## Connect to IBM DB2 Warehouse on cloud and store data in a table\n",
    "\n",
    "__Notice:__ Please follow the instructions given in Module 1 > Lab1 to Create a database service instance on DB2 Warehouse on Cloud.\n",
    "\n",
    "### Import the `ibm_db` Python library\n",
    "\n",
    "The `ibm_db` [API ](https://pypi.python.org/pypi/ibm_db/) provides a variety of useful Python functions for accessing and manipulating data in an IBM® data server database, including functions for connecting to a database, preparing and issuing SQL statements, fetching rows from result sets, calling stored procedures, committing and rolling back transactions, handling errors, and retrieving metadata.\n",
    "\n",
    "\n",
    "We import the ibm_db library into our Python Application"
   ]
  },
  {
   "cell_type": "code",
   "execution_count": 3,
   "metadata": {
    "collapsed": false
   },
   "outputs": [],
   "source": [
    "import ibm_db\n",
    "#connection for pandas\n",
    "import ibm_db_dbi"
   ]
  },
  {
   "cell_type": "markdown",
   "metadata": {},
   "source": [
    "When the command above completes, the `ibm_db` library is loaded in your notebook. \n",
    "\n",
    "\n",
    "### Identify the database connection credentials\n",
    "\n",
    "Connecting to dashDB or DB2 database requires the following information:\n",
    "* Driver Name\n",
    "* Database name \n",
    "* Host DNS name or IP address \n",
    "* Host port\n",
    "* Connection protocol\n",
    "* User ID\n",
    "* User Password\n",
    "\n",
    "\n",
    "\n",
    "__Notice:__ To obtain credentials please refer to the instructions given in Lab 1 of this module\n",
    "\n",
    "Here are the database credentials:\n"
   ]
  },
  {
   "cell_type": "code",
   "execution_count": null,
   "metadata": {
    "collapsed": true
   },
   "outputs": [],
   "source": [
    "dsn_driver = \"<driver>\"\n",
    "dsn_database = \"<database>\"            # e.g. \"BLUDB\"\n",
    "dsn_hostname = \"<hostname>\" # e.g.: \"awh-yp-small03.services.dal.bluemix.net\"\n",
    "dsn_port = \"<port>\"                # e.g. \"50000\" \n",
    "dsn_protocol = \"<protocol>\"            # i.e. \"TCPIP\"\n",
    "dsn_uid = \"<id>\"        # e.g. \"dash104434\"\n",
    "dsn_pwd = \"<password>\"       # e.g. \"7dBZ3jWt9xN6$o0JiX!m\"\n"
   ]
  },
  {
   "cell_type": "markdown",
   "metadata": {},
   "source": [
    "Enter your database credentials "
   ]
  },
  {
   "cell_type": "code",
   "execution_count": 4,
   "metadata": {
    "collapsed": true
   },
   "outputs": [],
   "source": [
    "dsn_driver = \"\"\n",
    "dsn_database = \"BLUDB\"            # e.g. \"BLUDB\"\n",
    "dsn_hostname = \"dashdb-txn-sbox-yp-dal09-03.services.dal.bluemix.net\" # e.g.: \"awh-yp-small03.services.dal.bluemix.net\"\n",
    "dsn_port = \"50000\"                # e.g. \"50000\" \n",
    "dsn_protocol = \"TCPIP\"            # i.e. \"TCPIP\"\n",
    "dsn_uid = \"rdq77411\"        # e.g. \"dash104434\"\n",
    "dsn_pwd = \"3x4w2g9@9rkxv9x5\"       # e.g. \"7dBZ3jWt9xN6$o0JiX!m\"\n"
   ]
  },
  {
   "cell_type": "markdown",
   "metadata": {},
   "source": [
    "### Create the DB2 database connection\n",
    "\n",
    "Ibm_db API uses the IBM Data Server Driver for ODBC and CLI APIs to connect to IBM DB2 and Informix.\n",
    "\n",
    "\n",
    "Create the database connection\n"
   ]
  },
  {
   "cell_type": "code",
   "execution_count": 5,
   "metadata": {
    "collapsed": false
   },
   "outputs": [
    {
     "name": "stdout",
     "output_type": "stream",
     "text": [
      "Connected!\n"
     ]
    }
   ],
   "source": [
    "#Create database connection\n",
    "dsn = (\n",
    "    \"DRIVER={{IBM DB2 ODBC DRIVER}};\"\n",
    "    \"DATABASE={0};\"\n",
    "    \"HOSTNAME={1};\"\n",
    "    \"PORT={2};\"\n",
    "    \"PROTOCOL=TCPIP;\"\n",
    "    \"UID={3};\"\n",
    "    \"PWD={4};\").format(dsn_database, dsn_hostname, dsn_port, dsn_uid, dsn_pwd)\n",
    "\n",
    "try:\n",
    "    conn = ibm_db.connect(dsn, \"\", \"\")\n",
    "    print (\"Connected!\")\n",
    "\n",
    "except:\n",
    "    print (\"Unable to connect to database\")\n",
    "\n"
   ]
  },
  {
   "cell_type": "markdown",
   "metadata": {},
   "source": [
    "### Store the dataset in a Table\n",
    "\n",
    "We need to create 3 tables : CENSUS_DATA , CHICAGO_PUBLIC_SCHOOLS and CHICAGO_CRIME_DATA on DB2 Warehouse on Cloud to store the datasets that we will be using in this lesson. We will be using the console provided by DB2 warehouse on cloud for this process. There are four steps involved in loading data into a table : source, target, define and finalize.\n",
    "We first load the spreadsheet into DB2 warehouse on Cloud using the console. We then select a target Schema and then you will be given an option to load the data into an existing table or create a new table. When you choose to create a new table you have the option to specify the table name. Next you will see a preview of the data where you can also define the columns and data types. Review the settings and begin the load. When the loading is complete, you can see the statistics on the loaded data. Next let us explore the socioeconomic indicators dataset using Python.\n"
   ]
  },
  {
   "cell_type": "code",
   "execution_count": 180,
   "metadata": {
    "collapsed": false
   },
   "outputs": [
    {
     "name": "stdout",
     "output_type": "stream",
     "text": [
      "   School_ID                                     Name_of_School  \\\n",
      "0     610038                  Abraham Lincoln Elementary School   \n",
      "1     610281  Adam Clayton Powell Paideia Community Academy ...   \n",
      "2     610185                Adlai E Stevenson Elementary School   \n",
      "3     609993                    Agustin Lara Elementary Academy   \n",
      "4     610513                      Air Force Academy High School   \n",
      "\n",
      "  Elementary, Middle, or High School         Street_Address     City State  \\\n",
      "0                                 ES        615 W Kemper Pl  Chicago    IL   \n",
      "1                                 ES  7511 S South Shore Dr  Chicago    IL   \n",
      "2                                 ES     8010 S Kostner Ave  Chicago    IL   \n",
      "3                                 ES     4619 S Wolcott Ave  Chicago    IL   \n",
      "4                                 HS        3630 S Wells St  Chicago    IL   \n",
      "\n",
      "   ZIP_Code    Phone_Number  \\\n",
      "0     60614  (773) 534-5720   \n",
      "1     60649  (773) 535-6650   \n",
      "2     60652  (773) 535-2280   \n",
      "3     60609  (773) 535-4389   \n",
      "4     60609  (773) 535-1590   \n",
      "\n",
      "                                                Link  \\\n",
      "0  http://schoolreports.cps.edu/SchoolProgressRep...   \n",
      "1  http://schoolreports.cps.edu/SchoolProgressRep...   \n",
      "2  http://schoolreports.cps.edu/SchoolProgressRep...   \n",
      "3  http://schoolreports.cps.edu/SchoolProgressRep...   \n",
      "4  http://schoolreports.cps.edu/SchoolProgressRep...   \n",
      "\n",
      "                      Network_Manager             ...               \\\n",
      "0        Fullerton Elementary Network             ...                \n",
      "1           Skyway Elementary Network             ...                \n",
      "2           Midway Elementary Network             ...                \n",
      "3         Pershing Elementary Network             ...                \n",
      "4  Southwest Side High School Network             ...                \n",
      "\n",
      "        RCDTS_Code X_COORDINATE Y_COORDINATE   Latitude  Longitude  \\\n",
      "0  150000000000000  1171699.458  1915829.428  41.924497 -87.644522   \n",
      "1  150000000000000  1196129.985  1856209.466  41.760324 -87.556736   \n",
      "2  150000000000000  1148427.165  1851012.215  41.747111 -87.731702   \n",
      "3  150000000000000  1164504.290  1873959.199  41.809757 -87.672145   \n",
      "4  150000000000000  1175177.622  1880745.126  41.828146 -87.632794   \n",
      "\n",
      "  Community_Area_Number Community_Area_Name  Ward Police_District  \\\n",
      "0                     7        LINCOLN PARK    43              18   \n",
      "1                    43         SOUTH SHORE     7               4   \n",
      "2                    70             ASHBURN    13               8   \n",
      "3                    61            NEW CITY    20               9   \n",
      "4                    34       ARMOUR SQUARE    11               9   \n",
      "\n",
      "                      Location  \n",
      "0  (41.92449696, -87.64452163)  \n",
      "1  (41.76032435, -87.55673627)  \n",
      "2  (41.74711093, -87.73170248)  \n",
      "3    (41.8097569, -87.6721446)  \n",
      "4  (41.82814609, -87.63279369)  \n",
      "\n",
      "[5 rows x 79 columns]\n"
     ]
    }
   ],
   "source": [
    "import pandas as pd\n",
    "pconn = ibm_db_dbi.Connection(conn)\n",
    "\n",
    "sql_census = \"SELECT * FROM CHICAGO_SOCIOECONOMIC_DATA\"\n",
    "sql_school = \"SELECT * FROM CHICAGO_PUBLIC_SCHOOL\"\n",
    "# sql_crime = \"SELECT * FROM CHICAGO_PUBLIC_SCHOOL\"  # this dataset is big and my account is lite (for now)\n",
    "df_census = pd.read_sql(sql_census, pconn)\n",
    "df_school = pd.read_sql(sql_school, pconn)\n",
    "\n",
    "#print(df_census.head())\n",
    "print(df_school.head())"
   ]
  },
  {
   "cell_type": "markdown",
   "metadata": {},
   "source": [
    "## Problems\n",
    "\n",
    "### Problem 1\n",
    "\n",
    "Find the total number of records for each of the tables"
   ]
  },
  {
   "cell_type": "code",
   "execution_count": 8,
   "metadata": {
    "collapsed": false,
    "scrolled": false
   },
   "outputs": [
    {
     "name": "stdout",
     "output_type": "stream",
     "text": [
      "Number of rows for census data: 78\n",
      "Number of rows for school data: 566\n"
     ]
    }
   ],
   "source": [
    "print(\"Number of rows for census data: {0}\".format(len(df_census)))\n",
    "print(\"Number of rows for school data: {0}\".format(len(df_school)))"
   ]
  },
  {
   "cell_type": "markdown",
   "metadata": {},
   "source": [
    "### Problem 2\n",
    "\n",
    "Find average college enrollments by community area"
   ]
  },
  {
   "cell_type": "code",
   "execution_count": 121,
   "metadata": {
    "collapsed": false
   },
   "outputs": [
    {
     "name": "stdout",
     "output_type": "stream",
     "text": [
      "  Community_Area_Name  College_Enrollment__number_of_students_\n",
      "0        LINCOLN PARK                               678.000000\n",
      "1         SOUTH SHORE                               910.777778\n",
      "2             ASHBURN                               626.857143\n",
      "3            NEW CITY                               826.400000\n",
      "4       ARMOUR SQUARE                              1077.285714\n"
     ]
    },
    {
     "data": {
      "text/plain": [
       "<seaborn.axisgrid.JointGrid at 0x7fd0162e0d30>"
      ]
     },
     "execution_count": 121,
     "metadata": {},
     "output_type": "execute_result"
    },
    {
     "data": {
      "image/png": "[encoded data removed]",
      "text/plain": [
       "<matplotlib.figure.Figure at 0x7fd016438240>"
      ]
     },
     "metadata": {},
     "output_type": "display_data"
    }
   ],
   "source": [
    "#print([c for c in df_school.columns if \"Enrollment\" in c])\n",
    "\n",
    "df_school_gb = df_school.groupby('Community_Area_Number', as_index=False)['College_Enrollment__number_of_students_'].mean()\n",
    "df_school_gb = df_school_gb.join(df_school['Community_Area_Name'])\n",
    "\n",
    "print(df_school_gb[['Community_Area_Name','College_Enrollment__number_of_students_']].head())\n",
    "\n",
    "import matplotlib as plt\n",
    "%matplotlib inline \n",
    "import seaborn as sns\n",
    "sns.jointplot(x='Community_Area_Number', y='College_Enrollment__number_of_students_', data=df_school_gb)"
   ]
  },
  {
   "cell_type": "markdown",
   "metadata": {},
   "source": [
    "### Problem 3\n",
    "\n",
    "Find the number of schools that are healthy school certified"
   ]
  },
  {
   "cell_type": "code",
   "execution_count": 135,
   "metadata": {
    "collapsed": false
   },
   "outputs": [
    {
     "name": "stdout",
     "output_type": "stream",
     "text": [
      "['Healthy_Schools_Certified_']\n",
      "16\n"
     ]
    }
   ],
   "source": [
    "print([c for c in df_school.columns if \"Health\" in c])\n",
    "\n",
    "print(len(df_school[df_school['Healthy_Schools_Certified_']=='Yes']))"
   ]
  },
  {
   "cell_type": "markdown",
   "metadata": {},
   "source": [
    "### Problem 4\n",
    "\n",
    "How many observations have a LocationDescription value of GAS STATION?"
   ]
  },
  {
   "cell_type": "code",
   "execution_count": 270,
   "metadata": {
    "collapsed": false
   },
   "outputs": [
    {
     "name": "stdout",
     "output_type": "stream",
     "text": [
      "Index(['ID', 'Case Number', 'Date', 'Block', 'IUCR', 'Primary Type',\n",
      "       'Description', 'Location Description', 'Arrest', 'Domestic', 'Beat',\n",
      "       'District', 'Ward', 'Community Area', 'FBI Code', 'X Coordinate',\n",
      "       'Y Coordinate', 'Year', 'Updated On', 'Latitude', 'Longitude',\n",
      "       'Location'],\n",
      "      dtype='object')\n",
      "The number of crimes at gas stations is 6\n"
     ]
    }
   ],
   "source": [
    "# This uses the crime data, which is very large. Not going to do it\n",
    "df_crime = pd.read_csv('https://ibm.box.com/shared/static/svflyugsr9zbqy5bmowgswqemfpm1x7f.csv')\n",
    "print(df_crime.columns)\n",
    "\n",
    "print(\"The number of crimes at gas stations is {0}\".format(\\\n",
    "    len(df_crime[df_crime['Location Description']=='GAS STATION'])))"
   ]
  },
  {
   "cell_type": "markdown",
   "metadata": {},
   "source": [
    "### Problem 5\n",
    "\n",
    "Retrieve a list of the top 10 community areas which have most number of schools and sorted in descending order."
   ]
  },
  {
   "cell_type": "code",
   "execution_count": 257,
   "metadata": {
    "collapsed": false
   },
   "outputs": [
    {
     "name": "stdout",
     "output_type": "stream",
     "text": [
      "Community_Area_Name\n",
      "ALBANY PARK        8\n",
      "ARCHER HEIGHTS     2\n",
      "ARMOUR SQUARE      3\n",
      "ASHBURN            8\n",
      "AUBURN GRESHAM    10\n",
      "AUSTIN            23\n",
      "AVALON PARK        3\n",
      "AVONDALE           4\n",
      "BELMONT CRAGIN    12\n",
      "BEVERLY            4\n",
      "Name: School_ID, dtype: int64\n"
     ]
    }
   ],
   "source": [
    "#print([c for c in df_school.columns if \"School\" in c])\n",
    "\n",
    "print(df_school.groupby('Community_Area_Name')['School_ID'].count()[list(range(10))]) # use list(range()) in python3"
   ]
  },
  {
   "cell_type": "markdown",
   "metadata": {},
   "source": [
    "### Problem 6\n",
    "\n",
    "How many observations have value MOTOR VEHICLE THEFT in the Primary Type variable (this is the number of crimes related to Motor vehicles)"
   ]
  },
  {
   "cell_type": "code",
   "execution_count": 271,
   "metadata": {
    "collapsed": false
   },
   "outputs": [
    {
     "name": "stdout",
     "output_type": "stream",
     "text": [
      "The number of crimes related to MOTOR VEHICLE THEFT is 24\n"
     ]
    }
   ],
   "source": [
    "# Crime data problem\n",
    "print(\"The number of crimes related to MOTOR VEHICLE THEFT is {0}\".format(\\\n",
    "    len(df_crime[df_crime['Primary Type']=='MOTOR VEHICLE THEFT'])))"
   ]
  },
  {
   "cell_type": "markdown",
   "metadata": {},
   "source": [
    "### Problem 7\n",
    "\n",
    "Find the minimum “Average Student Attendance” for community are where hardship is 96"
   ]
  },
  {
   "cell_type": "code",
   "execution_count": 256,
   "metadata": {
    "collapsed": false
   },
   "outputs": [
    {
     "name": "stdout",
     "output_type": "stream",
     "text": [
      "                                       Name_of_School Average_Student_Attendance\n",
      "69                Charles G Hammond Elementary School                      95.3%\n",
      "96                Cyrus H McCormick Elementary School                      95.9%\n",
      "100                Daniel J Corkery Elementary School                      94.7%\n",
      "104       David G Farragut Career Academy High School                      86.1%\n",
      "135                     Eli Whitney Elementary School                      95.8%\n",
      "143                Emiliano Zapata Elementary Academy                      96.6%\n",
      "162                  Francisco I Madero Middle School                      95.1%\n",
      "200    Gerald Delgado Kanoon Elementary Magnet School                      95.9%\n",
      "203   Greater Lawndale High School For Social Justice                      87.5%\n",
      "231    Ignance Paderewski Elementary Learning Academy                      92.1%\n",
      "232  Infinity Math Science and Technology High School                      92.2%\n",
      "296             John Spry Elementary Community School                      96.2%\n",
      "306       Josefa Ortiz De Dominguez Elementary School                      95.8%\n",
      "308                   Joseph E Gary Elementary School                      96.1%\n",
      "331                 Lazaro Cardenas Elementary School                      96.3%\n",
      "337                  Little Village Elementary School                      96.7%\n",
      "356       Maria Saucedo Elementary Scholastic Academy                      96.8%\n",
      "389              Multicultural Academy of Scholarship                      89.2%\n",
      "467             Rosario Castellanos Elementary School                      96.3%\n",
      "487                  Spry Community Links High School                      95.6%\n",
      "497                    Telpochcalli Elementary School                      95.4%\n",
      "565                World Language Academy High School                      91.6%\n"
     ]
    }
   ],
   "source": [
    "#print(df_census.columns)\n",
    "#print([c for c in df_school.columns if \"Attendance\" in c])\n",
    "#print([c for c in df_school.columns if \"Community\" in c])\n",
    "#print([c for c in df_school.columns if \"School\" in c])\n",
    "\n",
    "#print(\"\\n\\n\")\n",
    "\n",
    "#hard_communities = df_census.loc[df_census['HARDSHIP_INDEX']==96,'COMMUNITY_AREA_NAME'].tolist()\n",
    "#hard_communities = [c.upper() for c in hard_communities]\n",
    "\n",
    "hard_schools_attendance = df_school.loc[df_school['Community_Area_Name'].isin(hard_communities),\\\n",
    "                                        ['Name_of_School','Average_Student_Attendance']]\n",
    "# to_string makes it prettier\n",
    "print(hard_schools_attendance.to_string())"
   ]
  },
  {
   "cell_type": "markdown",
   "metadata": {},
   "source": [
    "### Conclusion\n",
    "\n",
    "Now after you have answered the Problems, you can use this notebook to share with your peers for reviewing."
   ]
  },
  {
   "cell_type": "markdown",
   "metadata": {},
   "source": [
    "## Close the Connection\n",
    "We free all resources by closing the connection. Remember that it is always important to close connections so that we can avoid unused connections taking up resources.\n"
   ]
  },
  {
   "cell_type": "code",
   "execution_count": null,
   "metadata": {
    "collapsed": false
   },
   "outputs": [],
   "source": [
    "ibm_db.close(conn)"
   ]
  },
  {
   "cell_type": "markdown",
   "metadata": {},
   "source": [
    "Copyright &copy; 2017 [cognitiveclass.ai](cognitiveclass.ai?utm_source=bducopyrightlink&utm_medium=dswb&utm_campaign=bdu). This notebook and its source code are released under the terms of the [MIT License](https://bigdatauniversity.com/mit-license/).\n"
   ]
  }
 ],
 "metadata": {
  "kernelspec": {
   "display_name": "Python 3",
   "language": "python",
   "name": "python3"
  },
  "language_info": {
   "codemirror_mode": {
    "name": "ipython",
    "version": 3
   },
   "file_extension": ".py",
   "mimetype": "text/x-python",
   "name": "python",
   "nbconvert_exporter": "python",
   "pygments_lexer": "ipython3",
   "version": "3.5.2"
  },
  "widgets": {
   "state": {},
   "version": "1.1.2"
  }
 },
 "nbformat": 4,
 "nbformat_minor": 0
}
