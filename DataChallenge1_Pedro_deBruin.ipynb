{
 "cells": [
  {
   "cell_type": "markdown",
   "metadata": {},
   "source": [
    "# Insight HD data challenge\n",
    "## by Pedro de Bruin\n",
    "\n",
    "This notebook contains my solution to the Week 5 Insight data challenge that was given to Health Data Science Fellows. "
   ]
  },
  {
   "cell_type": "markdown",
   "metadata": {},
   "source": [
    "## Instructions\n",
    "\n",
    "Your task is to develop a model that predicts whether a biopsied breast cell is benign (not harmful) or malignant (cancerous), given a set of attributes about the cell.\n",
    "\n",
    "Take no more than 3 hours to work on this. We've blocked off an hour at 4pm on Friday for both DS and HD Fellows to discuss what you found, and have some volunteers present how they approached the problem.\n",
    "\n",
    "We highly recommend making a Jupyter Notebook to display your results. Please include:\n",
    "\n",
    "    - A few sentence introduction to the problem\n",
    "    - Data exploration\n",
    "    - Graphs should be pretty and (short) take home messages should be provided\n",
    "    - Modeling\n",
    "        - Why you chose this method\n",
    "        - How it performed\n",
    "    - Summary of your results, what the take-home message/actionable insight is\n",
    "\n",
    "This shouldn't be a dump of everything that you did, but only the important things/what worked/what was interesting/how you thought about the problem. The code should be clean, modular and well-commented."
   ]
  },
  {
   "cell_type": "markdown",
   "metadata": {},
   "source": [
    "## The data\n",
    "\n",
    "The data is located at https://app.salesforceiq.com/r?target=5bbe5603c9e77c007a87c635&t=AFwhZf06FUgY_lxQ16f6-VmhuhZOnrgS06gkZCZucANRrKGag3eQaCtYO2cnX7hVORabEjGzAahlxo8V4MaU5E4low2CQRrb82wGsqDDO1ruU5O1J_Vtjd-myp0KLqs46lQpTegKZfxt&url=https%3A%2F%2Farchive.ics.uci.edu%2Fml%2Fmachine-learning-databases%2Fbreast-cancer-wisconsin%2Fbreast-cancer-wisconsin.data\n",
    "\n",
    "The format of the data is \n",
    "1. Sample code number: id number \n",
    "\n",
    "2. Clump Thickness: 1 - 10 \n",
    "\n",
    "3. Uniformity of Cell Size: 1 - 10 \n",
    "\n",
    "4. Uniformity of Cell Shape: 1 - 10 \n",
    "\n",
    "5. Marginal Adhesion: 1 - 10 \n",
    "\n",
    "6. Single Epithelial Cell Size: 1 - 10 \n",
    "\n",
    "7. Bare Nuclei: 1 - 10 \n",
    "\n",
    "8. Bland Chromatin: 1 - 10 \n",
    "\n",
    "9. Normal Nucleoli: 1 - 10 \n",
    "\n",
    "10. Mitoses: 1 - 10 \n",
    "\n",
    "11. Class: (2 for benign, 4 for malignant)"
   ]
  },
  {
   "cell_type": "code",
   "execution_count": 1,
   "metadata": {},
   "outputs": [],
   "source": [
    "import urllib.request\n",
    "import shutil\n",
    "import warnings\n",
    "warnings.filterwarnings('ignore')"
   ]
  },
  {
   "cell_type": "code",
   "execution_count": 2,
   "metadata": {},
   "outputs": [],
   "source": [
    "localtarget = '/media/pedro/Seagate Backup Plus Drive/Insight/datasets/HDchallenge.csv'\n",
    "dataurl = 'https://app.salesforceiq.com/r?target=5bbe5603c9e77c007a87c635&t=AFwhZf06FUgY_lxQ16f6-VmhuhZOnrgS06gkZCZucANRrKGag3eQaCtYO2cnX7hVORabEjGzAahlxo8V4MaU5E4low2CQRrb82wGsqDDO1ruU5O1J_Vtjd-myp0KLqs46lQpTegKZfxt&url=https%3A%2F%2Farchive.ics.uci.edu%2Fml%2Fmachine-learning-databases%2Fbreast-cancer-wisconsin%2Fbreast-cancer-wisconsin.data'\n",
    "\n",
    "with urllib.request.urlopen(dataurl) as response, open(localtarget, 'wb') as out_file:\n",
    "    shutil.copyfileobj(response, out_file)"
   ]
  },
  {
   "cell_type": "markdown",
   "metadata": {},
   "source": [
    "## Time for some Exploratory data analysis!"
   ]
  },
  {
   "cell_type": "markdown",
   "metadata": {},
   "source": [
    "Begin by doing the basic imports, reading the csv into a dataframe and adding column names:"
   ]
  },
  {
   "cell_type": "code",
   "execution_count": 3,
   "metadata": {},
   "outputs": [],
   "source": [
    "import pandas as pd\n",
    "import numpy as np"
   ]
  },
  {
   "cell_type": "code",
   "execution_count": 4,
   "metadata": {},
   "outputs": [],
   "source": [
    "df = pd.read_csv(localtarget, header=None, names=['id', 'clump_thickness', 'uniform_cellsize', 'uniform_cellshape', \n",
    "                                      'marginal_adhesion', 'single_epithelial_cellsize', 'bare_nuclei',\n",
    "                                      'bland_chromatin', 'normal_nucleoli', 'mitoses', 'class'])"
   ]
  },
  {
   "cell_type": "markdown",
   "metadata": {},
   "source": [
    "Now let's see what we got:"
   ]
  },
  {
   "cell_type": "code",
   "execution_count": 5,
   "metadata": {},
   "outputs": [
    {
     "data": {
      "text/html": [
       "<div>\n",
       "<style scoped>\n",
       "    .dataframe tbody tr th:only-of-type {\n",
       "        vertical-align: middle;\n",
       "    }\n",
       "\n",
       "    .dataframe tbody tr th {\n",
       "        vertical-align: top;\n",
       "    }\n",
       "\n",
       "    .dataframe thead th {\n",
       "        text-align: right;\n",
       "    }\n",
       "</style>\n",
       "<table border=\"1\" class=\"dataframe\">\n",
       "  <thead>\n",
       "    <tr style=\"text-align: right;\">\n",
       "      <th></th>\n",
       "      <th>id</th>\n",
       "      <th>clump_thickness</th>\n",
       "      <th>uniform_cellsize</th>\n",
       "      <th>uniform_cellshape</th>\n",
       "      <th>marginal_adhesion</th>\n",
       "      <th>single_epithelial_cellsize</th>\n",
       "      <th>bare_nuclei</th>\n",
       "      <th>bland_chromatin</th>\n",
       "      <th>normal_nucleoli</th>\n",
       "      <th>mitoses</th>\n",
       "      <th>class</th>\n",
       "    </tr>\n",
       "  </thead>\n",
       "  <tbody>\n",
       "    <tr>\n",
       "      <th>0</th>\n",
       "      <td>1000025</td>\n",
       "      <td>5</td>\n",
       "      <td>1</td>\n",
       "      <td>1</td>\n",
       "      <td>1</td>\n",
       "      <td>2</td>\n",
       "      <td>1</td>\n",
       "      <td>3</td>\n",
       "      <td>1</td>\n",
       "      <td>1</td>\n",
       "      <td>2</td>\n",
       "    </tr>\n",
       "    <tr>\n",
       "      <th>1</th>\n",
       "      <td>1002945</td>\n",
       "      <td>5</td>\n",
       "      <td>4</td>\n",
       "      <td>4</td>\n",
       "      <td>5</td>\n",
       "      <td>7</td>\n",
       "      <td>10</td>\n",
       "      <td>3</td>\n",
       "      <td>2</td>\n",
       "      <td>1</td>\n",
       "      <td>2</td>\n",
       "    </tr>\n",
       "    <tr>\n",
       "      <th>2</th>\n",
       "      <td>1015425</td>\n",
       "      <td>3</td>\n",
       "      <td>1</td>\n",
       "      <td>1</td>\n",
       "      <td>1</td>\n",
       "      <td>2</td>\n",
       "      <td>2</td>\n",
       "      <td>3</td>\n",
       "      <td>1</td>\n",
       "      <td>1</td>\n",
       "      <td>2</td>\n",
       "    </tr>\n",
       "    <tr>\n",
       "      <th>3</th>\n",
       "      <td>1016277</td>\n",
       "      <td>6</td>\n",
       "      <td>8</td>\n",
       "      <td>8</td>\n",
       "      <td>1</td>\n",
       "      <td>3</td>\n",
       "      <td>4</td>\n",
       "      <td>3</td>\n",
       "      <td>7</td>\n",
       "      <td>1</td>\n",
       "      <td>2</td>\n",
       "    </tr>\n",
       "    <tr>\n",
       "      <th>4</th>\n",
       "      <td>1017023</td>\n",
       "      <td>4</td>\n",
       "      <td>1</td>\n",
       "      <td>1</td>\n",
       "      <td>3</td>\n",
       "      <td>2</td>\n",
       "      <td>1</td>\n",
       "      <td>3</td>\n",
       "      <td>1</td>\n",
       "      <td>1</td>\n",
       "      <td>2</td>\n",
       "    </tr>\n",
       "  </tbody>\n",
       "</table>\n",
       "</div>"
      ],
      "text/plain": [
       "        id  clump_thickness  uniform_cellsize  uniform_cellshape  \\\n",
       "0  1000025                5                 1                  1   \n",
       "1  1002945                5                 4                  4   \n",
       "2  1015425                3                 1                  1   \n",
       "3  1016277                6                 8                  8   \n",
       "4  1017023                4                 1                  1   \n",
       "\n",
       "   marginal_adhesion  single_epithelial_cellsize bare_nuclei  bland_chromatin  \\\n",
       "0                  1                           2           1                3   \n",
       "1                  5                           7          10                3   \n",
       "2                  1                           2           2                3   \n",
       "3                  1                           3           4                3   \n",
       "4                  3                           2           1                3   \n",
       "\n",
       "   normal_nucleoli  mitoses  class  \n",
       "0                1        1      2  \n",
       "1                2        1      2  \n",
       "2                1        1      2  \n",
       "3                7        1      2  \n",
       "4                1        1      2  "
      ]
     },
     "execution_count": 5,
     "metadata": {},
     "output_type": "execute_result"
    }
   ],
   "source": [
    "df.head()"
   ]
  },
  {
   "cell_type": "markdown",
   "metadata": {},
   "source": [
    "Now let's do a quick info():"
   ]
  },
  {
   "cell_type": "code",
   "execution_count": 6,
   "metadata": {},
   "outputs": [
    {
     "name": "stdout",
     "output_type": "stream",
     "text": [
      "<class 'pandas.core.frame.DataFrame'>\n",
      "RangeIndex: 699 entries, 0 to 698\n",
      "Data columns (total 11 columns):\n",
      "id                            699 non-null int64\n",
      "clump_thickness               699 non-null int64\n",
      "uniform_cellsize              699 non-null int64\n",
      "uniform_cellshape             699 non-null int64\n",
      "marginal_adhesion             699 non-null int64\n",
      "single_epithelial_cellsize    699 non-null int64\n",
      "bare_nuclei                   699 non-null object\n",
      "bland_chromatin               699 non-null int64\n",
      "normal_nucleoli               699 non-null int64\n",
      "mitoses                       699 non-null int64\n",
      "class                         699 non-null int64\n",
      "dtypes: int64(10), object(1)\n",
      "memory usage: 60.1+ KB\n"
     ]
    }
   ],
   "source": [
    "df.info()"
   ]
  },
  {
   "cell_type": "markdown",
   "metadata": {},
   "source": [
    "Interesting, one of the columns (*bare_nuclei*) is not a number. Let's take a quick look"
   ]
  },
  {
   "cell_type": "code",
   "execution_count": 7,
   "metadata": {},
   "outputs": [
    {
     "data": {
      "text/plain": [
       "1     402\n",
       "10    132\n",
       "5      30\n",
       "2      30\n",
       "3      28\n",
       "8      21\n",
       "4      19\n",
       "?      16\n",
       "9       9\n",
       "7       8\n",
       "6       4\n",
       "Name: bare_nuclei, dtype: int64"
      ]
     },
     "execution_count": 7,
     "metadata": {},
     "output_type": "execute_result"
    }
   ],
   "source": [
    "df['bare_nuclei'].value_counts()"
   ]
  },
  {
   "cell_type": "markdown",
   "metadata": {},
   "source": [
    "Aha! Seems we have 16 entries with value '?'. Unfortunately our dataset is small and dropping these rows would reduce it by over 2%. Instead, let's replace the '?' value with the mean of the column:"
   ]
  },
  {
   "cell_type": "code",
   "execution_count": 8,
   "metadata": {},
   "outputs": [],
   "source": [
    "df.loc[df['bare_nuclei']=='?', 'bare_nuclei'] = df.loc[df['bare_nuclei']!='?', 'bare_nuclei'].astype(float).mean()\n",
    "df['bare_nuclei'] = df['bare_nuclei'].astype(float)"
   ]
  },
  {
   "cell_type": "code",
   "execution_count": 9,
   "metadata": {},
   "outputs": [
    {
     "data": {
      "text/plain": [
       "1.000000     402\n",
       "10.000000    132\n",
       "5.000000      30\n",
       "2.000000      30\n",
       "3.000000      28\n",
       "8.000000      21\n",
       "4.000000      19\n",
       "3.544656      16\n",
       "9.000000       9\n",
       "7.000000       8\n",
       "6.000000       4\n",
       "Name: bare_nuclei, dtype: int64"
      ]
     },
     "execution_count": 9,
     "metadata": {},
     "output_type": "execute_result"
    }
   ],
   "source": [
    "df['bare_nuclei'].value_counts()"
   ]
  },
  {
   "cell_type": "code",
   "execution_count": 10,
   "metadata": {},
   "outputs": [
    {
     "data": {
      "text/plain": [
       "1.000000     402\n",
       "10.000000    132\n",
       "5.000000      30\n",
       "2.000000      30\n",
       "3.000000      28\n",
       "8.000000      21\n",
       "4.000000      19\n",
       "3.544656      16\n",
       "9.000000       9\n",
       "7.000000       8\n",
       "6.000000       4\n",
       "Name: bare_nuclei, dtype: int64"
      ]
     },
     "execution_count": 10,
     "metadata": {},
     "output_type": "execute_result"
    }
   ],
   "source": [
    "df['bare_nuclei'].value_counts()"
   ]
  },
  {
   "cell_type": "markdown",
   "metadata": {},
   "source": [
    "### Any missing values?"
   ]
  },
  {
   "cell_type": "code",
   "execution_count": 11,
   "metadata": {},
   "outputs": [
    {
     "name": "stdout",
     "output_type": "stream",
     "text": [
      "Column id has 0 na values\n",
      "Column clump_thickness has 0 na values\n",
      "Column uniform_cellsize has 0 na values\n",
      "Column uniform_cellshape has 0 na values\n",
      "Column marginal_adhesion has 0 na values\n",
      "Column single_epithelial_cellsize has 0 na values\n",
      "Column bare_nuclei has 0 na values\n",
      "Column bland_chromatin has 0 na values\n",
      "Column normal_nucleoli has 0 na values\n",
      "Column mitoses has 0 na values\n",
      "Column class has 0 na values\n"
     ]
    }
   ],
   "source": [
    "cols = df.columns\n",
    "for i in range(len(cols)):\n",
    "    print(\"Column {} has {} na values\".format(cols[i], sum(df.iloc[:,i].isna()) ) )"
   ]
  },
  {
   "cell_type": "markdown",
   "metadata": {},
   "source": [
    "**No missing values!** Someone has provided us with a nice and clean table :)"
   ]
  },
  {
   "cell_type": "code",
   "execution_count": 12,
   "metadata": {},
   "outputs": [
    {
     "data": {
      "text/html": [
       "<div>\n",
       "<style scoped>\n",
       "    .dataframe tbody tr th:only-of-type {\n",
       "        vertical-align: middle;\n",
       "    }\n",
       "\n",
       "    .dataframe tbody tr th {\n",
       "        vertical-align: top;\n",
       "    }\n",
       "\n",
       "    .dataframe thead th {\n",
       "        text-align: right;\n",
       "    }\n",
       "</style>\n",
       "<table border=\"1\" class=\"dataframe\">\n",
       "  <thead>\n",
       "    <tr style=\"text-align: right;\">\n",
       "      <th></th>\n",
       "      <th>id</th>\n",
       "      <th>clump_thickness</th>\n",
       "      <th>uniform_cellsize</th>\n",
       "      <th>uniform_cellshape</th>\n",
       "      <th>marginal_adhesion</th>\n",
       "      <th>single_epithelial_cellsize</th>\n",
       "      <th>bare_nuclei</th>\n",
       "      <th>bland_chromatin</th>\n",
       "      <th>normal_nucleoli</th>\n",
       "      <th>mitoses</th>\n",
       "      <th>class</th>\n",
       "    </tr>\n",
       "  </thead>\n",
       "  <tbody>\n",
       "    <tr>\n",
       "      <th>count</th>\n",
       "      <td>6.990000e+02</td>\n",
       "      <td>699.000000</td>\n",
       "      <td>699.000000</td>\n",
       "      <td>699.000000</td>\n",
       "      <td>699.000000</td>\n",
       "      <td>699.000000</td>\n",
       "      <td>699.000000</td>\n",
       "      <td>699.000000</td>\n",
       "      <td>699.000000</td>\n",
       "      <td>699.000000</td>\n",
       "      <td>699.000000</td>\n",
       "    </tr>\n",
       "    <tr>\n",
       "      <th>mean</th>\n",
       "      <td>1.071704e+06</td>\n",
       "      <td>4.417740</td>\n",
       "      <td>3.134478</td>\n",
       "      <td>3.207439</td>\n",
       "      <td>2.806867</td>\n",
       "      <td>3.216023</td>\n",
       "      <td>3.544656</td>\n",
       "      <td>3.437768</td>\n",
       "      <td>2.866953</td>\n",
       "      <td>1.589413</td>\n",
       "      <td>2.689557</td>\n",
       "    </tr>\n",
       "    <tr>\n",
       "      <th>std</th>\n",
       "      <td>6.170957e+05</td>\n",
       "      <td>2.815741</td>\n",
       "      <td>3.051459</td>\n",
       "      <td>2.971913</td>\n",
       "      <td>2.855379</td>\n",
       "      <td>2.214300</td>\n",
       "      <td>3.601852</td>\n",
       "      <td>2.438364</td>\n",
       "      <td>3.053634</td>\n",
       "      <td>1.715078</td>\n",
       "      <td>0.951273</td>\n",
       "    </tr>\n",
       "    <tr>\n",
       "      <th>min</th>\n",
       "      <td>6.163400e+04</td>\n",
       "      <td>1.000000</td>\n",
       "      <td>1.000000</td>\n",
       "      <td>1.000000</td>\n",
       "      <td>1.000000</td>\n",
       "      <td>1.000000</td>\n",
       "      <td>1.000000</td>\n",
       "      <td>1.000000</td>\n",
       "      <td>1.000000</td>\n",
       "      <td>1.000000</td>\n",
       "      <td>2.000000</td>\n",
       "    </tr>\n",
       "    <tr>\n",
       "      <th>25%</th>\n",
       "      <td>8.706885e+05</td>\n",
       "      <td>2.000000</td>\n",
       "      <td>1.000000</td>\n",
       "      <td>1.000000</td>\n",
       "      <td>1.000000</td>\n",
       "      <td>2.000000</td>\n",
       "      <td>1.000000</td>\n",
       "      <td>2.000000</td>\n",
       "      <td>1.000000</td>\n",
       "      <td>1.000000</td>\n",
       "      <td>2.000000</td>\n",
       "    </tr>\n",
       "    <tr>\n",
       "      <th>50%</th>\n",
       "      <td>1.171710e+06</td>\n",
       "      <td>4.000000</td>\n",
       "      <td>1.000000</td>\n",
       "      <td>1.000000</td>\n",
       "      <td>1.000000</td>\n",
       "      <td>2.000000</td>\n",
       "      <td>1.000000</td>\n",
       "      <td>3.000000</td>\n",
       "      <td>1.000000</td>\n",
       "      <td>1.000000</td>\n",
       "      <td>2.000000</td>\n",
       "    </tr>\n",
       "    <tr>\n",
       "      <th>75%</th>\n",
       "      <td>1.238298e+06</td>\n",
       "      <td>6.000000</td>\n",
       "      <td>5.000000</td>\n",
       "      <td>5.000000</td>\n",
       "      <td>4.000000</td>\n",
       "      <td>4.000000</td>\n",
       "      <td>5.000000</td>\n",
       "      <td>5.000000</td>\n",
       "      <td>4.000000</td>\n",
       "      <td>1.000000</td>\n",
       "      <td>4.000000</td>\n",
       "    </tr>\n",
       "    <tr>\n",
       "      <th>max</th>\n",
       "      <td>1.345435e+07</td>\n",
       "      <td>10.000000</td>\n",
       "      <td>10.000000</td>\n",
       "      <td>10.000000</td>\n",
       "      <td>10.000000</td>\n",
       "      <td>10.000000</td>\n",
       "      <td>10.000000</td>\n",
       "      <td>10.000000</td>\n",
       "      <td>10.000000</td>\n",
       "      <td>10.000000</td>\n",
       "      <td>4.000000</td>\n",
       "    </tr>\n",
       "  </tbody>\n",
       "</table>\n",
       "</div>"
      ],
      "text/plain": [
       "                 id  clump_thickness  uniform_cellsize  uniform_cellshape  \\\n",
       "count  6.990000e+02       699.000000        699.000000         699.000000   \n",
       "mean   1.071704e+06         4.417740          3.134478           3.207439   \n",
       "std    6.170957e+05         2.815741          3.051459           2.971913   \n",
       "min    6.163400e+04         1.000000          1.000000           1.000000   \n",
       "25%    8.706885e+05         2.000000          1.000000           1.000000   \n",
       "50%    1.171710e+06         4.000000          1.000000           1.000000   \n",
       "75%    1.238298e+06         6.000000          5.000000           5.000000   \n",
       "max    1.345435e+07        10.000000         10.000000          10.000000   \n",
       "\n",
       "       marginal_adhesion  single_epithelial_cellsize  bare_nuclei  \\\n",
       "count         699.000000                  699.000000   699.000000   \n",
       "mean            2.806867                    3.216023     3.544656   \n",
       "std             2.855379                    2.214300     3.601852   \n",
       "min             1.000000                    1.000000     1.000000   \n",
       "25%             1.000000                    2.000000     1.000000   \n",
       "50%             1.000000                    2.000000     1.000000   \n",
       "75%             4.000000                    4.000000     5.000000   \n",
       "max            10.000000                   10.000000    10.000000   \n",
       "\n",
       "       bland_chromatin  normal_nucleoli     mitoses       class  \n",
       "count       699.000000       699.000000  699.000000  699.000000  \n",
       "mean          3.437768         2.866953    1.589413    2.689557  \n",
       "std           2.438364         3.053634    1.715078    0.951273  \n",
       "min           1.000000         1.000000    1.000000    2.000000  \n",
       "25%           2.000000         1.000000    1.000000    2.000000  \n",
       "50%           3.000000         1.000000    1.000000    2.000000  \n",
       "75%           5.000000         4.000000    1.000000    4.000000  \n",
       "max          10.000000        10.000000   10.000000    4.000000  "
      ]
     },
     "execution_count": 12,
     "metadata": {},
     "output_type": "execute_result"
    }
   ],
   "source": [
    "df.describe()"
   ]
  },
  {
   "cell_type": "markdown",
   "metadata": {},
   "source": [
    "We see that we have 699 entries. Also we have no outliers and all columns are indeed from 1 to 10. Excellent!"
   ]
  },
  {
   "cell_type": "markdown",
   "metadata": {},
   "source": [
    "### Changing target class values from (2,4) to (0,1)\n",
    "\n",
    "I'm not sure what motivated the table to use 2 (4) for benign (malignant) tumors, but I prefer the traditional (0,1) class values, so let's map 2->0, 4->1. "
   ]
  },
  {
   "cell_type": "code",
   "execution_count": 13,
   "metadata": {},
   "outputs": [
    {
     "data": {
      "text/plain": [
       "0    2\n",
       "1    2\n",
       "2    2\n",
       "3    2\n",
       "4    2\n",
       "Name: class, dtype: int64"
      ]
     },
     "execution_count": 13,
     "metadata": {},
     "output_type": "execute_result"
    }
   ],
   "source": [
    "df['class'].head()"
   ]
  },
  {
   "cell_type": "code",
   "execution_count": 14,
   "metadata": {},
   "outputs": [],
   "source": [
    "targetdict = {2:0, 4:1}\n",
    "df['class'] = df['class'].map(targetdict)"
   ]
  },
  {
   "cell_type": "code",
   "execution_count": 15,
   "metadata": {},
   "outputs": [
    {
     "data": {
      "text/plain": [
       "0    0\n",
       "1    0\n",
       "2    0\n",
       "3    0\n",
       "4    0\n",
       "Name: class, dtype: int64"
      ]
     },
     "execution_count": 15,
     "metadata": {},
     "output_type": "execute_result"
    }
   ],
   "source": [
    "df['class'].head()"
   ]
  },
  {
   "cell_type": "markdown",
   "metadata": {},
   "source": [
    "Perfect! Let's proceed with some basic plots:"
   ]
  },
  {
   "cell_type": "code",
   "execution_count": 16,
   "metadata": {},
   "outputs": [],
   "source": [
    "import matplotlib.pyplot as plt\n",
    "%matplotlib inline"
   ]
  },
  {
   "cell_type": "code",
   "execution_count": 17,
   "metadata": {},
   "outputs": [
    {
     "data": {
      "text/plain": [
       "0    458\n",
       "1    241\n",
       "Name: class, dtype: int64"
      ]
     },
     "execution_count": 17,
     "metadata": {},
     "output_type": "execute_result"
    }
   ],
   "source": [
    "df['class'].value_counts()"
   ]
  },
  {
   "cell_type": "code",
   "execution_count": 18,
   "metadata": {},
   "outputs": [
    {
     "data": {
      "text/plain": [
       "Text(0, 0.5, '# of entries')"
      ]
     },
     "execution_count": 18,
     "metadata": {},
     "output_type": "execute_result"
    },
    {
     "data": {
      "image/png": "[encoded data removed]",
      "text/plain": [
       "<Figure size 720x432 with 1 Axes>"
      ]
     },
     "metadata": {
      "needs_background": "light"
     },
     "output_type": "display_data"
    }
   ],
   "source": [
    "fig, ax = plt.subplots(figsize=(10,6))\n",
    "plot1 = ax.bar(x=range(2), height = df['class'].value_counts())\n",
    "plt.xticks(np.arange(0, 1.5, 1), fontsize=16)\n",
    "ax.set_title('Tumor Class', fontsize=20)\n",
    "ax.set_ylabel('# of entries', fontsize=20)"
   ]
  },
  {
   "cell_type": "markdown",
   "metadata": {},
   "source": [
    "As expected of a cancer dataset, I'll probably need to deal with this **class imbalance** at some point."
   ]
  },
  {
   "cell_type": "markdown",
   "metadata": {},
   "source": [
    "### Plotting the other variables:"
   ]
  },
  {
   "cell_type": "code",
   "execution_count": 19,
   "metadata": {},
   "outputs": [
    {
     "data": {
      "image/png": "[encoded data removed]",
      "text/plain": [
       "<Figure size 1440x2592 with 11 Axes>"
      ]
     },
     "metadata": {
      "needs_background": "light"
     },
     "output_type": "display_data"
    }
   ],
   "source": [
    "fig = plt.figure(figsize=(20,36))\n",
    "fig.subplots_adjust(hspace=0.4, wspace=0.4)\n",
    "\n",
    "for i, c in enumerate(cols):\n",
    "    ax = fig.add_subplot(6, 2, i+1)\n",
    "    sp0 = plt.hist(df.loc[df['class']==0, c], label='benign')\n",
    "    sp1 = plt.hist(df.loc[df['class']==1, c], label='malignant')\n",
    "    ax.legend(prop={'size':20})\n",
    "    ax.set_title(c, fontsize=20)\n",
    "    ax.tick_params(labelsize=15)\n",
    "    if c=='id':\n",
    "        ax.set_xlim([0,3000000])"
   ]
  },
  {
   "cell_type": "markdown",
   "metadata": {},
   "source": [
    "As we can see, some variables have fantastic discrimination already!"
   ]
  },
  {
   "cell_type": "markdown",
   "metadata": {},
   "source": [
    "## Partitioning data into train, xval and test sets\n",
    "\n",
    "To make sure we are free of bias and training an optimal model, let's define 3 independent sets from the data. We will use a 70/15/15 partition"
   ]
  },
  {
   "cell_type": "code",
   "execution_count": 20,
   "metadata": {},
   "outputs": [],
   "source": [
    "from sklearn.model_selection import train_test_split"
   ]
  },
  {
   "cell_type": "markdown",
   "metadata": {},
   "source": [
    "Useful trick, split dataframe twice in a row: once for train/test, then split train into train/xval!"
   ]
  },
  {
   "cell_type": "code",
   "execution_count": 21,
   "metadata": {},
   "outputs": [],
   "source": [
    "X_train, X_test, y_train, y_test = \\\n",
    "train_test_split(df.drop(columns=['class']), df['class'], test_size=0.2)"
   ]
  },
  {
   "cell_type": "code",
   "execution_count": 22,
   "metadata": {},
   "outputs": [],
   "source": [
    "X_train, X_val, y_train, y_val \\\n",
    "    = train_test_split(X_train, y_train, test_size=0.125)"
   ]
  },
  {
   "cell_type": "markdown",
   "metadata": {},
   "source": [
    "## Let's train some models!\n",
    "\n",
    "We first use standard scaler on our datasets:"
   ]
  },
  {
   "cell_type": "code",
   "execution_count": 23,
   "metadata": {},
   "outputs": [],
   "source": [
    "from sklearn.preprocessing import StandardScaler"
   ]
  },
  {
   "cell_type": "code",
   "execution_count": 24,
   "metadata": {},
   "outputs": [],
   "source": [
    "dfs_to_scale = [X_train, X_val, X_test]\n",
    "scaler = StandardScaler()\n",
    "for x in dfs_to_scale:\n",
    "    scaler.fit_transform(x)"
   ]
  },
  {
   "cell_type": "markdown",
   "metadata": {},
   "source": [
    "## 1. Logistic regression"
   ]
  },
  {
   "cell_type": "code",
   "execution_count": 25,
   "metadata": {},
   "outputs": [],
   "source": [
    "from sklearn.linear_model import LogisticRegression"
   ]
  },
  {
   "cell_type": "markdown",
   "metadata": {},
   "source": [
    "Remember not to use 'id' to train the model!"
   ]
  },
  {
   "cell_type": "code",
   "execution_count": 26,
   "metadata": {},
   "outputs": [
    {
     "name": "stdout",
     "output_type": "stream",
     "text": [
      "models will use the features Index(['clump_thickness', 'uniform_cellsize', 'uniform_cellshape',\n",
      "       'marginal_adhesion', 'single_epithelial_cellsize', 'bare_nuclei',\n",
      "       'bland_chromatin', 'normal_nucleoli', 'mitoses'],\n",
      "      dtype='object')\n"
     ]
    }
   ],
   "source": [
    "model_features = X_train.drop(columns=['id']).columns\n",
    "print(\"models will use the features {}\".format(model_features))"
   ]
  },
  {
   "cell_type": "code",
   "execution_count": 27,
   "metadata": {},
   "outputs": [],
   "source": [
    "clf = LogisticRegression(solver='lbfgs').fit(X_train[model_features], y_train)"
   ]
  },
  {
   "cell_type": "markdown",
   "metadata": {},
   "source": [
    "### Cross-validation prediction:"
   ]
  },
  {
   "cell_type": "code",
   "execution_count": 28,
   "metadata": {},
   "outputs": [
    {
     "data": {
      "text/plain": [
       "0.9285714285714286"
      ]
     },
     "execution_count": 28,
     "metadata": {},
     "output_type": "execute_result"
    }
   ],
   "source": [
    "y_pred_val = clf.predict(X_val.drop(columns=['id']))\n",
    "y_prob_val = clf.predict_proba(X_val.drop(columns=['id'])) \n",
    "clf.score(X_val.drop(columns=['id']), y_val)"
   ]
  },
  {
   "cell_type": "code",
   "execution_count": 29,
   "metadata": {},
   "outputs": [],
   "source": [
    "from sklearn.metrics import classification_report"
   ]
  },
  {
   "cell_type": "code",
   "execution_count": 30,
   "metadata": {},
   "outputs": [
    {
     "name": "stdout",
     "output_type": "stream",
     "text": [
      "             precision    recall  f1-score   support\n",
      "\n",
      "          c       0.96      0.94      0.95        51\n",
      "          l       0.85      0.89      0.87        19\n",
      "\n",
      "avg / total       0.93      0.93      0.93        70\n",
      "\n"
     ]
    }
   ],
   "source": [
    "print(classification_report(y_val, y_pred_val, target_names='class'))"
   ]
  },
  {
   "cell_type": "markdown",
   "metadata": {},
   "source": [
    "### Test set prediction:"
   ]
  },
  {
   "cell_type": "code",
   "execution_count": 31,
   "metadata": {},
   "outputs": [
    {
     "data": {
      "text/plain": [
       "0.9857142857142858"
      ]
     },
     "execution_count": 31,
     "metadata": {},
     "output_type": "execute_result"
    }
   ],
   "source": [
    "y_pred_test = clf.predict(X_test.drop(columns=['id']))\n",
    "y_prob_test = clf.predict_proba(X_test.drop(columns=['id'])) \n",
    "clf.score(X_test.drop(columns=['id']), y_test)"
   ]
  },
  {
   "cell_type": "markdown",
   "metadata": {},
   "source": [
    "Not bad... Let's take a look at precision, recall and F1-score:"
   ]
  },
  {
   "cell_type": "code",
   "execution_count": 32,
   "metadata": {},
   "outputs": [
    {
     "name": "stdout",
     "output_type": "stream",
     "text": [
      "             precision    recall  f1-score   support\n",
      "\n",
      "          c       0.98      1.00      0.99        95\n",
      "          l       1.00      0.96      0.98        45\n",
      "\n",
      "avg / total       0.99      0.99      0.99       140\n",
      "\n"
     ]
    }
   ],
   "source": [
    "logistic_regression_report = classification_report(y_test, y_pred_test, target_names='class')\n",
    "print(logistic_regression_report)"
   ]
  },
  {
   "cell_type": "code",
   "execution_count": 33,
   "metadata": {},
   "outputs": [],
   "source": [
    "# The estimated coefficients will all be around 1:\n",
    "#print(list(zip(clf.coef_[0], model_features))\n",
    "coef_dict = {}\n",
    "for coef, feat in zip(clf.coef_[0],model_features):\n",
    "    coef_dict[feat] = coef"
   ]
  },
  {
   "cell_type": "code",
   "execution_count": 34,
   "metadata": {},
   "outputs": [
    {
     "data": {
      "text/plain": [
       "Text(0.5, 1.0, 'Feature Importance')"
      ]
     },
     "execution_count": 34,
     "metadata": {},
     "output_type": "execute_result"
    },
    {
     "data": {
      "image/png": "[encoded data removed]",
      "text/plain": [
       "<Figure size 432x288 with 1 Axes>"
      ]
     },
     "metadata": {
      "needs_background": "light"
     },
     "output_type": "display_data"
    }
   ],
   "source": [
    "fig, ax = plt.subplots()    \n",
    "feature_imp_series = pd.Series(coef_dict)\n",
    "feature_imp_series.sort_values(ascending=True).plot(kind='barh');\n",
    "ax.set_title('Feature Importance', fontsize=20)\n",
    "#plt.barh(range(len(coef_dict)), list(coef_dict.values()), align='center');\n",
    "#plt.yticks(range(len(coef_dict)), list(coef_dict.keys()));"
   ]
  },
  {
   "cell_type": "markdown",
   "metadata": {},
   "source": [
    "## 2. Boosted Decision Tree"
   ]
  },
  {
   "cell_type": "code",
   "execution_count": 35,
   "metadata": {},
   "outputs": [],
   "source": [
    "from sklearn.ensemble import AdaBoostClassifier\n",
    "from sklearn.tree import DecisionTreeClassifier"
   ]
  },
  {
   "cell_type": "code",
   "execution_count": 36,
   "metadata": {},
   "outputs": [
    {
     "data": {
      "text/plain": [
       "AdaBoostClassifier(algorithm='SAMME',\n",
       "          base_estimator=DecisionTreeClassifier(class_weight=None, criterion='gini', max_depth=5,\n",
       "            max_features=None, max_leaf_nodes=None,\n",
       "            min_impurity_decrease=0.0, min_impurity_split=None,\n",
       "            min_samples_leaf=1, min_samples_split=2,\n",
       "            min_weight_fraction_leaf=0.0, presort=False, random_state=None,\n",
       "            splitter='best'),\n",
       "          learning_rate=1.0, n_estimators=250, random_state=None)"
      ]
     },
     "execution_count": 36,
     "metadata": {},
     "output_type": "execute_result"
    }
   ],
   "source": [
    "clf = AdaBoostClassifier(DecisionTreeClassifier(max_depth=5),\n",
    "                         algorithm=\"SAMME\",\n",
    "                         n_estimators=250)\n",
    "\n",
    "clf.fit(X_train.drop(columns=['id']), y_train)"
   ]
  },
  {
   "cell_type": "markdown",
   "metadata": {},
   "source": [
    "### Cross-validation prediction:"
   ]
  },
  {
   "cell_type": "code",
   "execution_count": 37,
   "metadata": {},
   "outputs": [
    {
     "data": {
      "text/plain": [
       "0.9285714285714286"
      ]
     },
     "execution_count": 37,
     "metadata": {},
     "output_type": "execute_result"
    }
   ],
   "source": [
    "y_pred_val = clf.predict(X_val.drop(columns=['id']))\n",
    "y_prob_val = clf.predict_proba(X_val.drop(columns=['id'])) \n",
    "clf.score(X_val.drop(columns=['id']), y_val)"
   ]
  },
  {
   "cell_type": "code",
   "execution_count": 38,
   "metadata": {},
   "outputs": [
    {
     "name": "stdout",
     "output_type": "stream",
     "text": [
      "             precision    recall  f1-score   support\n",
      "\n",
      "          c       0.96      0.94      0.95        51\n",
      "          l       0.85      0.89      0.87        19\n",
      "\n",
      "avg / total       0.93      0.93      0.93        70\n",
      "\n"
     ]
    }
   ],
   "source": [
    "print(classification_report(y_val, y_pred_val, target_names='class'))"
   ]
  },
  {
   "cell_type": "markdown",
   "metadata": {},
   "source": [
    "### Test set prediction:"
   ]
  },
  {
   "cell_type": "code",
   "execution_count": 39,
   "metadata": {},
   "outputs": [
    {
     "data": {
      "text/plain": [
       "0.9785714285714285"
      ]
     },
     "execution_count": 39,
     "metadata": {},
     "output_type": "execute_result"
    }
   ],
   "source": [
    "y_pred_test = clf.predict(X_test.drop(columns=['id']))\n",
    "y_prob_test = clf.predict_proba(X_test.drop(columns=['id'])) \n",
    "clf.score(X_test.drop(columns=['id']), y_test)"
   ]
  },
  {
   "cell_type": "code",
   "execution_count": 40,
   "metadata": {},
   "outputs": [
    {
     "name": "stdout",
     "output_type": "stream",
     "text": [
      "             precision    recall  f1-score   support\n",
      "\n",
      "          c       0.98      0.99      0.98        95\n",
      "          l       0.98      0.96      0.97        45\n",
      "\n",
      "avg / total       0.98      0.98      0.98       140\n",
      "\n"
     ]
    }
   ],
   "source": [
    "bdt_report = classification_report(y_test, y_pred_test, target_names='class')\n",
    "print(bdt_report)"
   ]
  },
  {
   "cell_type": "markdown",
   "metadata": {},
   "source": [
    "## 3. Random Forest"
   ]
  },
  {
   "cell_type": "code",
   "execution_count": 41,
   "metadata": {},
   "outputs": [],
   "source": [
    "from sklearn.ensemble import RandomForestClassifier\n",
    "from sklearn.datasets import make_classification"
   ]
  },
  {
   "cell_type": "code",
   "execution_count": 42,
   "metadata": {},
   "outputs": [
    {
     "name": "stdout",
     "output_type": "stream",
     "text": [
      "[0.03991592 0.28378416 0.23061401 0.02778147 0.07646182 0.19215099\n",
      " 0.0821518  0.05864145 0.00849839]\n"
     ]
    }
   ],
   "source": [
    "clf = RandomForestClassifier(n_estimators=500, max_depth=7)\n",
    "clf.fit(X_train.drop(columns=['id']), y_train)\n",
    "print(clf.feature_importances_)"
   ]
  },
  {
   "cell_type": "markdown",
   "metadata": {},
   "source": [
    "### Cross-validation prediction:"
   ]
  },
  {
   "cell_type": "code",
   "execution_count": 43,
   "metadata": {},
   "outputs": [
    {
     "data": {
      "text/plain": [
       "0.9428571428571428"
      ]
     },
     "execution_count": 43,
     "metadata": {},
     "output_type": "execute_result"
    }
   ],
   "source": [
    "y_pred_val = clf.predict(X_val.drop(columns=['id']))\n",
    "y_prob_val = clf.predict_proba(X_val.drop(columns=['id'])) \n",
    "clf.score(X_val.drop(columns=['id']), y_val)"
   ]
  },
  {
   "cell_type": "code",
   "execution_count": 44,
   "metadata": {},
   "outputs": [
    {
     "name": "stdout",
     "output_type": "stream",
     "text": [
      "             precision    recall  f1-score   support\n",
      "\n",
      "          c       0.98      0.94      0.96        51\n",
      "          l       0.86      0.95      0.90        19\n",
      "\n",
      "avg / total       0.95      0.94      0.94        70\n",
      "\n"
     ]
    }
   ],
   "source": [
    "print(classification_report(y_val, y_pred_val, target_names='class'))"
   ]
  },
  {
   "cell_type": "markdown",
   "metadata": {},
   "source": [
    "### Test set prediction:"
   ]
  },
  {
   "cell_type": "code",
   "execution_count": 45,
   "metadata": {},
   "outputs": [
    {
     "data": {
      "text/plain": [
       "0.9785714285714285"
      ]
     },
     "execution_count": 45,
     "metadata": {},
     "output_type": "execute_result"
    }
   ],
   "source": [
    "y_pred_test = clf.predict(X_test.drop(columns=['id']))\n",
    "y_prob_test = clf.predict_proba(X_test.drop(columns=['id'])) \n",
    "clf.score(X_test.drop(columns=['id']), y_test)"
   ]
  },
  {
   "cell_type": "code",
   "execution_count": 46,
   "metadata": {},
   "outputs": [
    {
     "name": "stdout",
     "output_type": "stream",
     "text": [
      "             precision    recall  f1-score   support\n",
      "\n",
      "          c       0.97      1.00      0.98        95\n",
      "          l       1.00      0.93      0.97        45\n",
      "\n",
      "avg / total       0.98      0.98      0.98       140\n",
      "\n"
     ]
    }
   ],
   "source": [
    "rf_report = classification_report(y_test, y_pred_test, target_names='class')\n",
    "print(rf_report)"
   ]
  },
  {
   "cell_type": "markdown",
   "metadata": {},
   "source": [
    "## 4. Support Vector Machine"
   ]
  },
  {
   "cell_type": "code",
   "execution_count": 47,
   "metadata": {},
   "outputs": [],
   "source": [
    "from sklearn.svm import SVC"
   ]
  },
  {
   "cell_type": "code",
   "execution_count": 48,
   "metadata": {},
   "outputs": [
    {
     "data": {
      "text/plain": [
       "SVC(C=10.0, cache_size=200, class_weight='balanced', coef0=0.0,\n",
       "  decision_function_shape='ovr', degree=3, gamma='auto', kernel='rbf',\n",
       "  max_iter=-1, probability=False, random_state=None, shrinking=True,\n",
       "  tol=0.001, verbose=False)"
      ]
     },
     "execution_count": 48,
     "metadata": {},
     "output_type": "execute_result"
    }
   ],
   "source": [
    "clf = SVC(C=10., class_weight='balanced', gamma='auto', kernel='rbf')\n",
    "clf.fit(X_train.drop(columns=['id']), y_train)"
   ]
  },
  {
   "cell_type": "markdown",
   "metadata": {},
   "source": [
    "### Cross-validation prediction:"
   ]
  },
  {
   "cell_type": "code",
   "execution_count": 49,
   "metadata": {},
   "outputs": [
    {
     "data": {
      "text/plain": [
       "0.9285714285714286"
      ]
     },
     "execution_count": 49,
     "metadata": {},
     "output_type": "execute_result"
    }
   ],
   "source": [
    "y_pred_val = clf.predict(X_val.drop(columns=['id']))\n",
    "clf.score(X_val.drop(columns=['id']), y_val)"
   ]
  },
  {
   "cell_type": "code",
   "execution_count": 50,
   "metadata": {},
   "outputs": [
    {
     "name": "stdout",
     "output_type": "stream",
     "text": [
      "             precision    recall  f1-score   support\n",
      "\n",
      "          c       0.98      0.92      0.95        51\n",
      "          l       0.82      0.95      0.88        19\n",
      "\n",
      "avg / total       0.94      0.93      0.93        70\n",
      "\n"
     ]
    }
   ],
   "source": [
    "print(classification_report(y_val, y_pred_val, target_names='class'))"
   ]
  },
  {
   "cell_type": "markdown",
   "metadata": {},
   "source": [
    "### Test set prediction:"
   ]
  },
  {
   "cell_type": "code",
   "execution_count": 51,
   "metadata": {},
   "outputs": [
    {
     "data": {
      "text/plain": [
       "0.9857142857142858"
      ]
     },
     "execution_count": 51,
     "metadata": {},
     "output_type": "execute_result"
    }
   ],
   "source": [
    "y_pred_test = clf.predict(X_test.drop(columns=['id']))\n",
    "clf.score(X_test.drop(columns=['id']), y_test)"
   ]
  },
  {
   "cell_type": "code",
   "execution_count": 52,
   "metadata": {},
   "outputs": [
    {
     "name": "stdout",
     "output_type": "stream",
     "text": [
      "             precision    recall  f1-score   support\n",
      "\n",
      "          c       0.99      0.99      0.99        95\n",
      "          l       0.98      0.98      0.98        45\n",
      "\n",
      "avg / total       0.99      0.99      0.99       140\n",
      "\n"
     ]
    }
   ],
   "source": [
    "svc_report = classification_report(y_test, y_pred_test, target_names='class')\n",
    "print(svc_report)"
   ]
  },
  {
   "cell_type": "markdown",
   "metadata": {},
   "source": [
    "# Summary\n",
    "\n",
    "We have trained several classifiers on our dataset. Because the dataset is small and with few features, simple logistic regression performs quite well. \n",
    "\n",
    "**The classifiers have similar performance, with F1-scores, precision and recall usually ranging from 95% to 99%. The variation is due to the random train/test splitting procedure. We need more data to identify the 'best' one, but they are all already quite good.**"
   ]
  },
  {
   "cell_type": "markdown",
   "metadata": {},
   "source": [
    "**Our analysis also indicates the 3 most importance features for our prediction are mitoses, clump thickness, bare nuclei and bland chromatin**."
   ]
  },
  {
   "cell_type": "markdown",
   "metadata": {},
   "source": [
    "<br><br><br><br>\n",
    "## Classifier scores:"
   ]
  },
  {
   "cell_type": "markdown",
   "metadata": {},
   "source": [
    "### Logistic Regression: "
   ]
  },
  {
   "cell_type": "code",
   "execution_count": 53,
   "metadata": {},
   "outputs": [
    {
     "name": "stdout",
     "output_type": "stream",
     "text": [
      "             precision    recall  f1-score   support\n",
      "\n",
      "          c       0.98      1.00      0.99        95\n",
      "          l       1.00      0.96      0.98        45\n",
      "\n",
      "avg / total       0.99      0.99      0.99       140\n",
      "\n"
     ]
    }
   ],
   "source": [
    "print(logistic_regression_report)"
   ]
  },
  {
   "cell_type": "markdown",
   "metadata": {},
   "source": [
    "### Boosted Decision Tree:"
   ]
  },
  {
   "cell_type": "code",
   "execution_count": 54,
   "metadata": {},
   "outputs": [
    {
     "name": "stdout",
     "output_type": "stream",
     "text": [
      "             precision    recall  f1-score   support\n",
      "\n",
      "          c       0.98      0.99      0.98        95\n",
      "          l       0.98      0.96      0.97        45\n",
      "\n",
      "avg / total       0.98      0.98      0.98       140\n",
      "\n"
     ]
    }
   ],
   "source": [
    "print(bdt_report)"
   ]
  },
  {
   "cell_type": "markdown",
   "metadata": {},
   "source": [
    "### Random Forest:"
   ]
  },
  {
   "cell_type": "code",
   "execution_count": 55,
   "metadata": {},
   "outputs": [
    {
     "name": "stdout",
     "output_type": "stream",
     "text": [
      "             precision    recall  f1-score   support\n",
      "\n",
      "          c       0.97      1.00      0.98        95\n",
      "          l       1.00      0.93      0.97        45\n",
      "\n",
      "avg / total       0.98      0.98      0.98       140\n",
      "\n"
     ]
    }
   ],
   "source": [
    "print(rf_report)"
   ]
  },
  {
   "cell_type": "markdown",
   "metadata": {},
   "source": [
    "### Support Vector Machine:"
   ]
  },
  {
   "cell_type": "code",
   "execution_count": 56,
   "metadata": {},
   "outputs": [
    {
     "name": "stdout",
     "output_type": "stream",
     "text": [
      "             precision    recall  f1-score   support\n",
      "\n",
      "          c       0.99      0.99      0.99        95\n",
      "          l       0.98      0.98      0.98        45\n",
      "\n",
      "avg / total       0.99      0.99      0.99       140\n",
      "\n"
     ]
    }
   ],
   "source": [
    "print(svc_report)"
   ]
  }
 ],
 "metadata": {
  "kernelspec": {
   "display_name": "Python 3",
   "language": "python",
   "name": "python3"
  },
  "language_info": {
   "codemirror_mode": {
    "name": "ipython",
    "version": 3
   },
   "file_extension": ".py",
   "mimetype": "text/x-python",
   "name": "python",
   "nbconvert_exporter": "python",
   "pygments_lexer": "ipython3",
   "version": "3.6.6"
  }
 },
 "nbformat": 4,
 "nbformat_minor": 2
}
